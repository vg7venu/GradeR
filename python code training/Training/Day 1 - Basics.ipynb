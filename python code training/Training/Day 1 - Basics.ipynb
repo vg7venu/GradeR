{
 "cells": [
  {
   "cell_type": "markdown",
   "metadata": {},
   "source": [
    "# DAY 1 \n",
    "\n"
   ]
  },
  {
   "cell_type": "markdown",
   "metadata": {},
   "source": [
    "# Standard data types\n",
    "A variable can hold different types of values. For example, a person?s name must be stored as a string whereas its id must be stored as an integer.\n",
    "\n",
    "Python provides various standard data types that define the storage method on each of them. The data types defined in Python are given below.\n",
    "\n",
    "Numbers<br>\n",
    "Strings<br>\n",
    "Lists<br>\n",
    "Tuples<br>\n",
    "Dictionarys<br>"
   ]
  },
  {
   "cell_type": "code",
   "execution_count": null,
   "metadata": {},
   "outputs": [],
   "source": [
    "print(\"Hello World!\")"
   ]
  },
  {
   "cell_type": "code",
   "execution_count": 1,
   "metadata": {},
   "outputs": [
    {
     "name": "stdout",
     "output_type": "stream",
     "text": [
      "3\n"
     ]
    }
   ],
   "source": [
    "print(3)"
   ]
  },
  {
   "cell_type": "code",
   "execution_count": 1,
   "metadata": {},
   "outputs": [
    {
     "ename": "SyntaxError",
     "evalue": "invalid character in identifier (<ipython-input-1-430f4ec7baef>, line 1)",
     "output_type": "error",
     "traceback": [
      "\u001b[1;36m  File \u001b[1;32m\"<ipython-input-1-430f4ec7baef>\"\u001b[1;36m, line \u001b[1;32m1\u001b[0m\n\u001b[1;33m    print(😙😙)\u001b[0m\n\u001b[1;37m           ^\u001b[0m\n\u001b[1;31mSyntaxError\u001b[0m\u001b[1;31m:\u001b[0m invalid character in identifier\n"
     ]
    }
   ],
   "source": [
    "print(😙😙)"
   ]
  },
  {
   "cell_type": "code",
   "execution_count": 3,
   "metadata": {},
   "outputs": [
    {
     "name": "stdout",
     "output_type": "stream",
     "text": [
      "\n",
      "      Multiple\n",
      "      Line \n",
      "      printing\n",
      "      \n"
     ]
    }
   ],
   "source": [
    "print(\"\"\"\n",
    "      Multiple\n",
    "      Line \n",
    "      printing\n",
    "      \"\"\")"
   ]
  },
  {
   "cell_type": "code",
   "execution_count": 4,
   "metadata": {},
   "outputs": [
    {
     "name": "stdout",
     "output_type": "stream",
     "text": [
      "<class 'str'>\n",
      "<class 'int'>\n",
      "<class 'float'>\n",
      "<class 'str'>\n"
     ]
    }
   ],
   "source": [
    "print( type(\"sadasdasdasd\") )\n",
    "print( type(3))\n",
    "print( type(3.65656))\n",
    "print( type('s'))"
   ]
  },
  {
   "cell_type": "code",
   "execution_count": 5,
   "metadata": {},
   "outputs": [
    {
     "name": "stdout",
     "output_type": "stream",
     "text": [
      "7\n",
      "-1\n",
      "12\n",
      "0.75\n",
      "2\n"
     ]
    }
   ],
   "source": [
    "print(3+4)\n",
    "print(3-4)\n",
    "print(3*4)\n",
    "print(3/4) \n",
    "print(5%3) #remainder"
   ]
  },
  {
   "cell_type": "code",
   "execution_count": 6,
   "metadata": {},
   "outputs": [
    {
     "name": "stdout",
     "output_type": "stream",
     "text": [
      "<class 'int'>\n",
      "<class 'float'>\n"
     ]
    }
   ],
   "source": [
    "print( type(5//2) ) #quotient\n",
    "print( type(5/2) )"
   ]
  },
  {
   "cell_type": "markdown",
   "metadata": {},
   "source": [
    "# Lists"
   ]
  },
  {
   "cell_type": "markdown",
   "metadata": {},
   "source": [
    "#### Basics of Lists"
   ]
  },
  {
   "cell_type": "code",
   "execution_count": 1,
   "metadata": {},
   "outputs": [
    {
     "name": "stdout",
     "output_type": "stream",
     "text": [
      "<class 'list'>\n"
     ]
    }
   ],
   "source": [
    "lisst=['Super',5,'k',6.4]\n",
    "print(type(lisst))"
   ]
  },
  {
   "cell_type": "code",
   "execution_count": null,
   "metadata": {
    "scrolled": true
   },
   "outputs": [],
   "source": [
    "coollist=[30,20,'cool',3.0565,'Awesome!']\n",
    "print(coollist[0])\n",
    "print(coollist[2])\n",
    "print(coollist[4])\n",
    "\n",
    "coollist[2]='changed value'\n",
    "print(coollist[2])\n",
    "\n"
   ]
  },
  {
   "cell_type": "code",
   "execution_count": null,
   "metadata": {},
   "outputs": [],
   "source": [
    "list1=[1,2,3,4]\n",
    "list2=[6,7,8,9]\n",
    "\n",
    "print(list1+list2)\n",
    "print(list1*3)\n",
    "\n",
    "# print(list1/3) << Gives Error : unsupported operand type(s) for /: 'list' and 'int'\n",
    "# print(list1-list2) << Gives Error : unsupported operand type(s) for -: 'list' and 'list'"
   ]
  },
  {
   "cell_type": "markdown",
   "metadata": {},
   "source": [
    "#### Positive and Negative indexing(starts at the end of the array) "
   ]
  },
  {
   "cell_type": "code",
   "execution_count": null,
   "metadata": {},
   "outputs": [],
   "source": [
    "list3=[1,2,3,4,5,6]\n",
    "print( list3[0])\n",
    "print( list3[-1])"
   ]
  },
  {
   "cell_type": "code",
   "execution_count": null,
   "metadata": {},
   "outputs": [],
   "source": [
    "print(list3[2:3])\n"
   ]
  },
  {
   "cell_type": "markdown",
   "metadata": {},
   "source": [
    "#### List Slicing"
   ]
  },
  {
   "cell_type": "code",
   "execution_count": null,
   "metadata": {},
   "outputs": [],
   "source": [
    "lit=[1,2,3,4,5,6,7,8,9,10]\n",
    "print(lit[2:6:3]) #steps inclue\n",
    "print(lit[0:6]) #0th index - upto 6th index(5th index)\n",
    "print(lit[:4])\n",
    "print(lit[:]) #acess full array without knowing length\n",
    "print(lit[4:]) "
   ]
  },
  {
   "cell_type": "code",
   "execution_count": null,
   "metadata": {},
   "outputs": [],
   "source": [
    "print(lit[2::-1]) #print in reverse order"
   ]
  },
  {
   "cell_type": "markdown",
   "metadata": {},
   "source": [
    "# Tuples"
   ]
  },
  {
   "cell_type": "markdown",
   "metadata": {},
   "source": [
    "same as lists \n",
    "but only difference is it is \n",
    "#### IMMUTABLE"
   ]
  },
  {
   "cell_type": "code",
   "execution_count": null,
   "metadata": {},
   "outputs": [],
   "source": [
    "tuple1=(30,50,\"jan\",'a',45.5)\n",
    "\n",
    "print(type(tuple1))\n",
    "print(tuple1[0])\n",
    "print(tuple1[-1])\n",
    "print(tuple1[1:4])\n",
    "print(tuple1[1:4:1])\n",
    "print(tuple1[1:4:2])\n",
    "\n",
    "print(tuple1[::-1]) #entire tuple in reverse order\n"
   ]
  },
  {
   "cell_type": "markdown",
   "metadata": {},
   "source": [
    "# Dictionaries\n"
   ]
  },
  {
   "cell_type": "markdown",
   "metadata": {},
   "source": [
    "##### Dictionaries :\n",
    "- key is **IMMUTABLE**\n",
    "\n",
    "- value can be MUTABLE\n",
    "\n",
    "- keys should be unique , If you use 2keys as same it just update with latest value\n"
   ]
  },
  {
   "cell_type": "markdown",
   "metadata": {},
   "source": [
    "#### Creating and acessing dictionary"
   ]
  },
  {
   "cell_type": "code",
   "execution_count": null,
   "metadata": {},
   "outputs": [],
   "source": [
    "dict1 = {\n",
    "    \"jan\":31,\n",
    "    \"feb\":28,\n",
    "    \"march\":3,\n",
    "    30:\"5454\"\n",
    "}\n",
    "\n",
    "print(dict1)\n",
    "print(type(dict1))\n",
    "print(dict1[\"jan\"])\n",
    "print(dict1[30])\n",
    "\n",
    "dict1[\"jan\"]=99\n",
    "\n",
    "print(dict1[\"jan\"])\n"
   ]
  },
  {
   "cell_type": "markdown",
   "metadata": {},
   "source": [
    "#### Deleting an element in Dictionary"
   ]
  },
  {
   "cell_type": "code",
   "execution_count": null,
   "metadata": {},
   "outputs": [],
   "source": [
    "dict1 = {\n",
    "    \"jan\":31,\n",
    "    \"feb\":28,\n",
    "    \"march\":3,\n",
    "    30:\"5454\"\n",
    "}\n",
    "dict1\n",
    "del dict1[\"jan\"]\n",
    "dict1\n",
    "\n",
    "## Note run above cell first"
   ]
  },
  {
   "cell_type": "markdown",
   "metadata": {},
   "source": [
    "#### Useful functions"
   ]
  },
  {
   "cell_type": "code",
   "execution_count": null,
   "metadata": {},
   "outputs": [],
   "source": [
    "print(len(dict1))\n",
    "print(str(dict1))\n",
    "print(len(dict1))\n"
   ]
  },
  {
   "cell_type": "markdown",
   "metadata": {},
   "source": [
    "#### Getting the values from Dictonary"
   ]
  },
  {
   "cell_type": "code",
   "execution_count": null,
   "metadata": {},
   "outputs": [],
   "source": [
    "dict1 = {\n",
    "    \"jan\":31,\n",
    "    \"feb\":28,\n",
    "    \"march\":3,\n",
    "    30:\"5454\"\n",
    "}\n",
    "print(dict1.get(\"jan\",45)) #if key is present , then it will give value . dic.get(KEY,IF NOT DEFAULT VALUE)\n",
    "print(dict1.get(\"january\",None)) # Key is not present so return the default value NONE\n",
    "print(dict1.get(\"sdsjan\",45)) # Key is not present so return the default value 45\n",
    "print(dict1)\n",
    "\n",
    "print(dict1.items()) # returns keys and values pair as list\n",
    "print(dict1.keys()) # returns keys LIST\n",
    "print(dict1.values()) #returns values List\n"
   ]
  },
  {
   "cell_type": "markdown",
   "metadata": {},
   "source": []
  },
  {
   "cell_type": "markdown",
   "metadata": {},
   "source": [
    "# Strings"
   ]
  },
  {
   "cell_type": "markdown",
   "metadata": {},
   "source": [
    "*  "
   ]
  },
  {
   "cell_type": "code",
   "execution_count": null,
   "metadata": {},
   "outputs": [],
   "source": [
    "str1= \"This is PYthon\"\n",
    "print(str1[-1])\n",
    "print(str1[:7])\n",
    "print(str1[:-1])\n",
    "print(str1[::-1])\n",
    "print(str1[5:-1])"
   ]
  },
  {
   "cell_type": "markdown",
   "metadata": {},
   "source": [
    "#### Operations in Strings"
   ]
  },
  {
   "cell_type": "code",
   "execution_count": null,
   "metadata": {},
   "outputs": [],
   "source": [
    "str1=\"This is one\"\n",
    "str2=\"This is two\"\n",
    "\n",
    "print(str1+str2)\n",
    "# print(str1-str2) >> Gives error\n",
    "# print(str1*str2) >> Gives error\n",
    "print(str1*2) #Prints Twice\n",
    "# print(str1/str2) >> Gives error\n",
    "# print(str1/4) >> Gives error\n"
   ]
  },
  {
   "cell_type": "markdown",
   "metadata": {},
   "source": [
    "#### Formatted String\n"
   ]
  },
  {
   "cell_type": "code",
   "execution_count": null,
   "metadata": {},
   "outputs": [],
   "source": [
    "num1=40\n",
    "num2=3.2\n",
    "\n",
    "#first method \n",
    "print(\"\\n<< Method 1  >>\")\n",
    "print(\"Value is  %f\"%(num1)) # format as floating point number\n",
    "print(\"Value-1 : %f Value-2: %6.5f \"%(num1, num2)) # format as floating point number\n",
    "\n",
    "#second method\n",
    "print(\"\\n<< Method 2 >>\")\n",
    "print(\"val 1 : {0}\".format(num1))\n",
    "print(\"val 1 : {1} val 2: {0}\".format(num1,num2))\n",
    "print(\"val 1 : {nu1} val 2: {nu2}\".format(nu1=num1,nu2=num2))\n"
   ]
  },
  {
   "cell_type": "code",
   "execution_count": null,
   "metadata": {},
   "outputs": [],
   "source": []
  },
  {
   "cell_type": "markdown",
   "metadata": {},
   "source": [
    "# Conditionals"
   ]
  },
  {
   "cell_type": "markdown",
   "metadata": {},
   "source": [
    "if, if else, if elif, else"
   ]
  },
  {
   "cell_type": "markdown",
   "metadata": {},
   "source": [
    "* Intendation >> : << is \" 4 spaces \" (in jupyter TAB=4 > spaces)"
   ]
  },
  {
   "cell_type": "code",
   "execution_count": null,
   "metadata": {},
   "outputs": [],
   "source": [
    "x=34\n",
    "if x==34:\n",
    "    print(\"good\")"
   ]
  },
  {
   "cell_type": "code",
   "execution_count": null,
   "metadata": {},
   "outputs": [],
   "source": [
    "value1 = 30\n",
    "\n",
    "if value1>40:\n",
    "    print(\"Cool\")\n",
    "else:\n",
    "    print(\"else cool\")"
   ]
  },
  {
   "cell_type": "code",
   "execution_count": null,
   "metadata": {},
   "outputs": [],
   "source": [
    "value =60\n",
    "\n",
    "if value<40:\n",
    "    print(\"if cool\")\n",
    "elif value>30:\n",
    "    print(\"else if cool\")\n",
    "else:\n",
    "    print(\"else cool\")"
   ]
  },
  {
   "cell_type": "code",
   "execution_count": null,
   "metadata": {},
   "outputs": [],
   "source": [
    "value =10\n",
    "\n",
    "if value>50:\n",
    "    print(\"if cool\")\n",
    "elif value>40:\n",
    "    print(\"else if cool 40 \")\n",
    "elif value>30:\n",
    "    print(\"else if cool 30\")\n",
    "elif value>20:\n",
    "    print(\"else if cool 20 \")\n",
    "elif value==10:\n",
    "    print(\"else if cool 10 \")\n",
    "else:\n",
    "    print(\"else cool \")"
   ]
  },
  {
   "cell_type": "markdown",
   "metadata": {},
   "source": [
    "#### Single Line Conditoinal"
   ]
  },
  {
   "cell_type": "code",
   "execution_count": null,
   "metadata": {},
   "outputs": [],
   "source": [
    "fruit ='Apple'\n",
    "isApple = True if fruit == 'Apple' else False\n",
    "print(isApple)"
   ]
  },
  {
   "cell_type": "markdown",
   "metadata": {},
   "source": [
    "# LOOPS\n",
    "\n",
    "for loop range function -range object - convert to list\n",
    "-range function"
   ]
  },
  {
   "cell_type": "code",
   "execution_count": null,
   "metadata": {},
   "outputs": [],
   "source": [
    "print(range(1,10))\n",
    "# list1=[]\n",
    "#directly acessing that will return the range object, but not iterable\n",
    "# list1=[(range(1,10))]\n",
    "# list1"
   ]
  },
  {
   "cell_type": "code",
   "execution_count": null,
   "metadata": {},
   "outputs": [],
   "source": [
    "print (list(range(1,10)))\n",
    "#range needs a type casted into list"
   ]
  },
  {
   "cell_type": "markdown",
   "metadata": {},
   "source": [
    "#### FOR LOOP\n",
    "\n",
    "for ITERATION_VARIABLE in list(range(x,y)):\n",
    "    loop"
   ]
  },
  {
   "cell_type": "code",
   "execution_count": null,
   "metadata": {
    "scrolled": true
   },
   "outputs": [],
   "source": [
    "for everyItem in list(range(1,10)):\n",
    "    print(everyItem)\n",
    "\n",
    "#print on same line\n",
    "#run it for every list item (item in List)"
   ]
  },
  {
   "cell_type": "code",
   "execution_count": null,
   "metadata": {},
   "outputs": [],
   "source": [
    "#loop for printing even numbers in the list\n",
    "list1 = [3,58,8,4645,654,8,465,8,8,4,999]\n",
    "\n",
    "for i in list1:\n",
    "    if i%2==0:\n",
    "        print(i)"
   ]
  },
  {
   "cell_type": "code",
   "execution_count": null,
   "metadata": {},
   "outputs": [],
   "source": [
    "list2 = [20,\"jan\",\"Dileep\",565.0555]\n",
    "\n",
    "for everyItem in list2:\n",
    "    print(everyItem)"
   ]
  },
  {
   "cell_type": "markdown",
   "metadata": {},
   "source": [
    "#### While Loop"
   ]
  },
  {
   "cell_type": "code",
   "execution_count": null,
   "metadata": {
    "scrolled": true
   },
   "outputs": [],
   "source": [
    "count = 0\n",
    "while count<9 :\n",
    "    print(\"The Count is : \", count)\n",
    "    count=count+1\n",
    "print(\"GOOD BYE\")\n",
    "\n",
    "#Infinite loop >> Restart the kernal it will stop that thread\n",
    "#if that thread won't stop we cant execute other code"
   ]
  },
  {
   "cell_type": "markdown",
   "metadata": {},
   "source": [
    "# Functions"
   ]
  },
  {
   "cell_type": "code",
   "execution_count": null,
   "metadata": {},
   "outputs": [],
   "source": [
    "#Creating a function\n",
    "def add():\n",
    "    print(3+34)\n",
    "    \n",
    "add()"
   ]
  },
  {
   "cell_type": "code",
   "execution_count": null,
   "metadata": {},
   "outputs": [],
   "source": [
    "#Paramaterized funcitions\n",
    "\n",
    "def add(a,b):\n",
    "    print(a+b)\n",
    "\n",
    "add(3,4)"
   ]
  },
  {
   "cell_type": "code",
   "execution_count": null,
   "metadata": {
    "scrolled": true
   },
   "outputs": [],
   "source": [
    "#Paramaterized funcitions with return type\n",
    "\n",
    "def add(a,b):\n",
    "    return a+b\n",
    "\n",
    "sum=add(3,4)\n",
    "print(sum)"
   ]
  },
  {
   "cell_type": "code",
   "execution_count": null,
   "metadata": {},
   "outputs": [],
   "source": [
    "#Default Parameters\n",
    "\n",
    "def add(a,b=6):\n",
    "    return a+b\n",
    "\n",
    "sum=add(3,4) #print 3+4\n",
    "deff=add(3)  #print 3+6  6 is default\n",
    "print(sum,deff)"
   ]
  },
  {
   "cell_type": "markdown",
   "metadata": {},
   "source": [
    "# User Input"
   ]
  },
  {
   "cell_type": "code",
   "execution_count": null,
   "metadata": {},
   "outputs": [],
   "source": [
    "userName = input(\"Type your name\")\n",
    "print(userName)\n",
    "print(type(userName)) # the input function take type is always \"string\"\n"
   ]
  },
  {
   "cell_type": "code",
   "execution_count": null,
   "metadata": {
    "scrolled": true
   },
   "outputs": [],
   "source": [
    "#Type Cast the input funtion String >>> to >> custom type\n",
    "userAge = int(input(\"Type your name\"))\n",
    "print(userAge)\n",
    "print(type(userAge))\n"
   ]
  },
  {
   "cell_type": "markdown",
   "metadata": {},
   "source": [
    "   "
   ]
  },
  {
   "cell_type": "code",
   "execution_count": null,
   "metadata": {},
   "outputs": [],
   "source": []
  },
  {
   "cell_type": "code",
   "execution_count": null,
   "metadata": {},
   "outputs": [],
   "source": []
  },
  {
   "cell_type": "code",
   "execution_count": null,
   "metadata": {},
   "outputs": [],
   "source": []
  },
  {
   "cell_type": "code",
   "execution_count": null,
   "metadata": {},
   "outputs": [],
   "source": []
  },
  {
   "cell_type": "code",
   "execution_count": null,
   "metadata": {},
   "outputs": [],
   "source": []
  },
  {
   "cell_type": "markdown",
   "metadata": {},
   "source": [
    "# Exercise"
   ]
  },
  {
   "cell_type": "markdown",
   "metadata": {},
   "source": [
    "# Problem 1\n",
    "\n",
    "Find profit or loss\n"
   ]
  },
  {
   "cell_type": "code",
   "execution_count": 7,
   "metadata": {},
   "outputs": [
    {
     "name": "stdout",
     "output_type": "stream",
     "text": [
      "Enter Selling Price :23\n",
      "Enter the Cost Price: 44\n",
      "Loss : 21\n"
     ]
    }
   ],
   "source": [
    "sp = int(input(\"Enter Selling Price :\"))\n",
    "cp = int(input(\"Enter the Cost Price: \"))\n",
    "\n",
    "if (cp-sp)==0:\n",
    "    print(\"Neither Profit , Nor Loss\")\n",
    "elif (cp-sp)>0:\n",
    "    print(\"Loss :\",cp-sp)\n",
    "else:\n",
    "    print(\"Profit :\",sp-cp)"
   ]
  },
  {
   "cell_type": "code",
   "execution_count": null,
   "metadata": {},
   "outputs": [],
   "source": []
  },
  {
   "cell_type": "markdown",
   "metadata": {},
   "source": [
    "# Problem 2\n",
    "calculate simple and compound interest<br>\n",
    "p = Principle Amount<br>\n",
    "n = Number of years or time<br>\n",
    "r = Rate of interest<br>\n",
    "\n",
    "**Simple Interest**\n",
    "- $SI = $( $p * n$ $* r$ ) / 100\n",
    "\n",
    "**Compound Interest**\n",
    "- $CI = p$ $* $(1 + ( $r \\div 100) ) ^ n$ $- p$\n",
    "\n",
    "    \n"
   ]
  },
  {
   "cell_type": "code",
   "execution_count": 8,
   "metadata": {},
   "outputs": [
    {
     "name": "stdout",
     "output_type": "stream",
     "text": [
      "Enter Principle Amount :1000\n",
      "Enter Rate of Interest :3\n",
      "Enter Number of Years :2\n",
      "Simple Interest : 60.0\n",
      "\n",
      "Compound Interest : 60.899999999999864\n"
     ]
    }
   ],
   "source": [
    "def sI(p,n,r):\n",
    "    return (p*n*r)/100\n",
    "\n",
    "def cI(p,n,r):\n",
    "    return (p*pow(1+r/100,n))-p\n",
    "            \n",
    "p = float(input(\"Enter Principle Amount :\"))\n",
    "r = float(input(\"Enter Rate of Interest :\"))\n",
    "n = float(input(\"Enter Number of Years :\"))\n",
    "\n",
    "print(\"Simple Interest :\",sI(p,n,r))\n",
    "print(\"\\nCompound Interest :\",cI(p,n,r))\n"
   ]
  },
  {
   "cell_type": "code",
   "execution_count": null,
   "metadata": {},
   "outputs": [],
   "source": []
  },
  {
   "cell_type": "markdown",
   "metadata": {},
   "source": [
    "# Problem 3\n",
    "create a simple calculator\n"
   ]
  },
  {
   "cell_type": "code",
   "execution_count": 9,
   "metadata": {},
   "outputs": [
    {
     "name": "stdout",
     "output_type": "stream",
     "text": [
      "Enter value 1 :2\n",
      "Enter value 2 :3\n",
      "Enter your choice : \n",
      "A - Addition \n",
      "S - Subtraction \n",
      "M - Multiplication \n",
      "D - Division\n",
      "D\n",
      "Division :  0.6666666666666666\n"
     ]
    }
   ],
   "source": [
    "val1 = int(input(\"Enter value 1 :\"))\n",
    "val2 = int(input(\"Enter value 2 :\"))\n",
    "choice = input(\"Enter your choice : \\nA - Addition \\nS - Subtraction \\nM - Multiplication \\nD - Division\\n\")\n",
    "\n",
    "if choice =='A':\n",
    "    print(\"Addition :\",val1+val2)\n",
    "elif choice == 'S':\n",
    "    print(\"Subtraction : \",val1-val2)\n",
    "elif choice == 'M':\n",
    "    print(\"Multiplication : \",val1*val2)\n",
    "elif choice == 'D':\n",
    "    print(\"Division : \",val1/val2)\n",
    "else:\n",
    "    print(\"Wrong Choice\")\n",
    "\n"
   ]
  }
 ],
 "metadata": {
  "kernelspec": {
   "display_name": "Python 3",
   "language": "python",
   "name": "python3"
  },
  "language_info": {
   "codemirror_mode": {
    "name": "ipython",
    "version": 3
   },
   "file_extension": ".py",
   "mimetype": "text/x-python",
   "name": "python",
   "nbconvert_exporter": "python",
   "pygments_lexer": "ipython3",
   "version": "3.7.1"
  }
 },
 "nbformat": 4,
 "nbformat_minor": 2
}
