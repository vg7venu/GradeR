{
 "cells": [
  {
   "cell_type": "markdown",
   "metadata": {},
   "source": [
    "# Numpy\n",
    "Numerical Python library for **LINEAR ALGEBRA** "
   ]
  },
  {
   "cell_type": "markdown",
   "metadata": {},
   "source": [
    "**Conda install numpy**"
   ]
  },
  {
   "cell_type": "code",
   "execution_count": 2,
   "metadata": {},
   "outputs": [],
   "source": [
    "# Required Imports\n",
    "import numpy\n",
    "import numpy as np"
   ]
  },
  {
   "cell_type": "markdown",
   "metadata": {},
   "source": [
    "### NUMPY BASICS"
   ]
  },
  {
   "cell_type": "code",
   "execution_count": null,
   "metadata": {},
   "outputs": [],
   "source": [
    "a=np.array([1,2,3,4]) #creates an array\n",
    "print(a.shape) #prints size of the array \"(rows,columns)\", as this has only one row so (rows,) NOTE : See it in ROW WAY \n",
    "print(type(a))\n",
    "print(a[0])\n",
    "a[0]=5\n",
    "print(a)"
   ]
  },
  {
   "cell_type": "code",
   "execution_count": null,
   "metadata": {},
   "outputs": [],
   "source": [
    "a=np.array([[2,3],[4,1],[1,6],[4,5]])\n",
    "print(a.shape)\n",
    "print(a)"
   ]
  },
  {
   "cell_type": "code",
   "execution_count": null,
   "metadata": {},
   "outputs": [],
   "source": [
    "a=np.array([[2,3,5,6],[4,1,5,6]])\n",
    "print(a.shape)\n",
    "print(a)"
   ]
  },
  {
   "cell_type": "code",
   "execution_count": null,
   "metadata": {},
   "outputs": [],
   "source": [
    "a=np.array([[1,2,3,4],[5,6,7,8]])\n",
    "print(a.shape)\n",
    "print(a)\n",
    "print(a[0,2])\n",
    "print(a[1,1])"
   ]
  },
  {
   "cell_type": "code",
   "execution_count": null,
   "metadata": {},
   "outputs": [],
   "source": [
    "a=np.array([[1,1,1,1],[2,2,2,2],[4,5,7,5]])\n",
    "print(a.shape)\n",
    "print(\"------------------\")\n",
    "print(a[: , :]) #print entire matrix \n",
    "print(\"------------------\")\n",
    "print(a[:]) \n",
    "print(\"------------------\")\n",
    "print(a[2]) #print a row\n",
    "print(\"------------------\")\n",
    "print(a[:,2]) # print only 3nd column"
   ]
  },
  {
   "cell_type": "code",
   "execution_count": null,
   "metadata": {},
   "outputs": [],
   "source": [
    "list1 = [[1,1,1,1],[2,2,2,2],[4,5,7,5]]\n",
    "a=np.array(list1)\n",
    "print(a)\n"
   ]
  },
  {
   "cell_type": "code",
   "execution_count": null,
   "metadata": {},
   "outputs": [],
   "source": [
    "list1=[1,2,3,4]\n",
    "list2 = [[1,2,3,4],[5,6,7,8]]\n",
    "\n",
    "c=np.array(list1)\n",
    "d=np.array(list2)\n",
    "\n",
    "print(c)\n",
    "print(\"------------------\")\n",
    "print(d)\n"
   ]
  },
  {
   "cell_type": "markdown",
   "metadata": {},
   "source": [
    "### Reshape function\n",
    "While changing array we should keep in mind : no of elements"
   ]
  },
  {
   "cell_type": "code",
   "execution_count": null,
   "metadata": {},
   "outputs": [],
   "source": [
    "list1=[x for x in range(1,11)]\n",
    "b=np.array(list1)\n",
    "print(b)\n",
    "print(\"------------------\")\n",
    "\n",
    "a=b.reshape(2,5)\n",
    "print(a)\n",
    "print(\"------------------\")\n",
    "\n",
    "c=a.reshape(-5,2) # ignores -ve sign and see the neat +ve value that will hold all elements \n",
    "print(c)\n",
    "print(\"------------------\")\n",
    "\n",
    "d=a.reshape(-5,2) # ignores -ve sign\n",
    "print(d)\n",
    "print(\"------------------\")\n",
    "\n",
    "d=a.reshape(9,-2) # Cannot reshape  lol ! (3,2) DUDE check if it fits the complete array or not\n",
    "#Factorial\n",
    "print(d)"
   ]
  },
  {
   "cell_type": "markdown",
   "metadata": {},
   "source": [
    "### Ravel Function"
   ]
  },
  {
   "cell_type": "markdown",
   "metadata": {},
   "source": [
    "converts a 2D to 1D (xD --> 1D )"
   ]
  },
  {
   "cell_type": "code",
   "execution_count": null,
   "metadata": {},
   "outputs": [],
   "source": [
    "# arange ==> 0-7 values\n",
    "arr = np.arange(8)\n",
    "print(arr)\n",
    "print(\"------------------\")\n",
    "\n",
    "arr = arr.reshape(2,4) # Convert to 2D Array\n",
    "print(arr)\n",
    "print(\"------------------\")\n",
    "# arr = np.arange(8).reshape(2,4)  << single line\n",
    "\n",
    "print(arr.ravel())  #convert to 1D array\n"
   ]
  },
  {
   "cell_type": "markdown",
   "metadata": {},
   "source": [
    "### Tuple To Numpy"
   ]
  },
  {
   "cell_type": "code",
   "execution_count": null,
   "metadata": {},
   "outputs": [],
   "source": [
    "# ndarray from exisisting data or tuple\n",
    "\n",
    "tuple1 = (1,2,3,4)\n",
    "print(type(tuple1))\n",
    "e = np.array(tuple1)\n",
    "print(e.shape)\n",
    "print(e)"
   ]
  },
  {
   "cell_type": "markdown",
   "metadata": {},
   "source": [
    "### Custom Matrix"
   ]
  },
  {
   "cell_type": "code",
   "execution_count": null,
   "metadata": {},
   "outputs": [],
   "source": [
    "# Data Type conversion\n",
    "\n",
    "x=[1,3,4]\n",
    "a = np.array(x,dtype=float) # default 64 bit representation of float64\n",
    "print(a)"
   ]
  },
  {
   "cell_type": "code",
   "execution_count": null,
   "metadata": {},
   "outputs": [],
   "source": [
    "# Create  a array of all zeros (0's)\n",
    "\n",
    "d = np.zeros((2,2),  dtype = np.float32) #creates a array of zeroes with float32 bit representation\n",
    "#note if no float32 or no any type mentioned >>> it takes Float64 values >> useful for operations(best case ) \n",
    "print(d)\n",
    "print(type(d[0,0]))\n"
   ]
  },
  {
   "cell_type": "code",
   "execution_count": null,
   "metadata": {},
   "outputs": [],
   "source": [
    "# create an array of 1's\n",
    "\n",
    "e=np.ones((2,2))\n",
    "print(e)\n",
    "print(type(e[0,0]))"
   ]
  },
  {
   "cell_type": "code",
   "execution_count": 3,
   "metadata": {},
   "outputs": [
    {
     "name": "stdout",
     "output_type": "stream",
     "text": [
      "[[7 7 7 7]\n",
      " [7 7 7 7]\n",
      " [7 7 7 7]]\n"
     ]
    }
   ],
   "source": [
    "# full matrix with our VALUE\n",
    "e=np.full((3,4),7)\n",
    "print(e)"
   ]
  },
  {
   "cell_type": "code",
   "execution_count": null,
   "metadata": {},
   "outputs": [],
   "source": [
    "#Identity matrix\n",
    "# NOTE : It is always a square matrix so 1 values sent >> Default float\n",
    "d = np.eye(3)\n",
    "print(d)"
   ]
  },
  {
   "cell_type": "code",
   "execution_count": null,
   "metadata": {},
   "outputs": [],
   "source": [
    "#Identity matrix with int type\n",
    "d = np.eye((3), dtype = int)\n",
    "print(d)"
   ]
  },
  {
   "cell_type": "code",
   "execution_count": null,
   "metadata": {
    "scrolled": true
   },
   "outputs": [],
   "source": [
    "#Random values matrix ( min_val, max_val, size=(x,y) )\n",
    "\n",
    "d = np.random.randint(62,88, size=(3,4))\n",
    "print(d)"
   ]
  },
  {
   "cell_type": "code",
   "execution_count": null,
   "metadata": {},
   "outputs": [],
   "source": [
    "#note converting will not ROUND THE VALUE it will TRUNCATE DECIMAL VALUE\n",
    "x = np.array([[7.6464654,4.54654545],[4.5465564654,4.654654]], dtype=int)\n",
    "print(x)"
   ]
  },
  {
   "cell_type": "markdown",
   "metadata": {},
   "source": [
    "## Array Indexing\n",
    "numpy offers several ways to index into arrays.\n",
    "\n",
    "similar to pyhton lists. but  specify to each dimension"
   ]
  },
  {
   "cell_type": "markdown",
   "metadata": {},
   "source": [
    "### Positive indexing"
   ]
  },
  {
   "cell_type": "code",
   "execution_count": null,
   "metadata": {},
   "outputs": [],
   "source": [
    "a= np.array([[1,2,3,4],[5,6,7,8],[9,10,11,12]])\n",
    "print(a)\n",
    "b = a[:2,1:3]\n",
    "print(\"---------------------\")\n",
    "print(b)"
   ]
  },
  {
   "cell_type": "markdown",
   "metadata": {},
   "source": [
    "### Negative Indexing\n"
   ]
  },
  {
   "cell_type": "code",
   "execution_count": null,
   "metadata": {},
   "outputs": [],
   "source": [
    "a = np.array([[1,2,3,4],[5,6,7,8],[9,10,11,12]])\n",
    "print(a)\n",
    "print(\"---------------------\")\n",
    "b = a[:-2, :-1]  # DUDEEEE upto \"UPTO ****\" -2 means it is not inclue -2 row index\n",
    "print(b)"
   ]
  },
  {
   "cell_type": "code",
   "execution_count": null,
   "metadata": {},
   "outputs": [],
   "source": [
    "a = np.array([[1,2,3],[4,5,6],[7,8,9],[10,12,12]])\n",
    "print(a)\n",
    "print(\"---------------------\")\n",
    "print(a[1:])"
   ]
  },
  {
   "cell_type": "code",
   "execution_count": 8,
   "metadata": {},
   "outputs": [
    {
     "name": "stdout",
     "output_type": "stream",
     "text": [
      "a=\n",
      " [[ 1  2  3]\n",
      " [ 4  5  6]\n",
      " [ 7  8  9]\n",
      " [10 12 12]]\n",
      "------------ changed b[1][2]=99\n",
      "a=\n",
      " [[ 1  2  3]\n",
      " [ 4  5 99]\n",
      " [ 7  8  9]\n",
      " [10 12 12]]\n",
      "b=\n",
      " [[ 1  2  3]\n",
      " [ 4  5 99]\n",
      " [ 7  8  9]\n",
      " [10 12 12]]\n"
     ]
    }
   ],
   "source": [
    "#a's address copied to b's address \n",
    "a = np.array([[1,2,3],[4,5,6],[7,8,9],[10,12,12]])\n",
    "print(\"a=\\n\",a)\n",
    "b= a\n",
    "print(\"------------ changed b[1][2]=99\")\n",
    "b[1][2]=99\n",
    "print(\"a=\\n\",a)\n",
    "print(\"b=\\n\",b)"
   ]
  },
  {
   "cell_type": "code",
   "execution_count": null,
   "metadata": {},
   "outputs": [],
   "source": [
    "#a's address copied to b's address as the given format[:2,1:3]\n",
    "#what ever changes made to the b's positions will reflect to a's array at that place where b has ccopied the values\n",
    "\n",
    "a = np.array([[1,2,3],[4,5,6],[7,8,9],[10,12,12]])\n",
    "print(\"a=\\n\",a)\n",
    "b= a[:2,1:3]\n",
    "print(\"b=\\n\",b)\n",
    "print(\"--------------------- the a's value a[0,1] changed = 2\")\n",
    "print(a[0,1])\n",
    "b[0,0]=77\n",
    "print(\"--------------------- changed value of b[0,0]\")\n",
    "print(a[0,1])\n",
    "print(\"--------------------- b's [0,0] == a's [0,2] \")\n",
    "print(\"a=\\n\",a)\n",
    "print(\"SO, places indices are not changing\")"
   ]
  },
  {
   "cell_type": "markdown",
   "metadata": {},
   "source": [
    "## Arange function\n"
   ]
  },
  {
   "cell_type": "code",
   "execution_count": null,
   "metadata": {},
   "outputs": [],
   "source": [
    "# range(start,end,step) Step can be float \n",
    "a = np.arange(2,10,0.15)\n",
    "print(a)\n",
    "print(\"-----------------\")\n",
    "a = np.arange(2,10,0.1)\n",
    "print(a)\n",
    "print(\"-----------------\")\n"
   ]
  },
  {
   "cell_type": "code",
   "execution_count": null,
   "metadata": {},
   "outputs": [],
   "source": [
    "#SLICES\n",
    "\n",
    "a = np.arange(2,10,0.1)\n",
    "print(a)\n",
    "print(\"-----------------\")\n",
    "\n",
    "s = slice(10,20,2) # slice() << select only specific indices \n",
    "#slice(start_index, End_Index, Step)\n",
    "print(a[s])"
   ]
  },
  {
   "cell_type": "markdown",
   "metadata": {},
   "source": [
    "### Acessing specific values in differenent rows and and differnt column values\n",
    "\n",
    "numbers of one array passed as index to next array"
   ]
  },
  {
   "cell_type": "code",
   "execution_count": null,
   "metadata": {},
   "outputs": [],
   "source": [
    "import numpy as np\n",
    "a = np.array([[1,2,3],[4,5,6],[7,8,9],[10,11,12]])\n",
    "print(a)\n",
    "print(\"--------------------- b's array\")\n",
    "b = np.array([0,2,1,0])\n",
    "print(b)\n",
    "print(\"--------------------- a's array by b's index\")\n",
    "print(a[np.arange(4),b]) #arange function\n",
    "print(\"---------------------\")\n",
    "a[np.arange(4),b]+=10 #selected updation of elements from a matrix\n",
    "print(a)"
   ]
  },
  {
   "cell_type": "code",
   "execution_count": null,
   "metadata": {},
   "outputs": [],
   "source": [
    "a = np.array([[1,2,3],[4,5,6],[7,8,9],[10,11,12]])\n",
    "print(a)\n",
    "b = np.array([0,2,0,1])\n",
    "print(\"____________\")\n",
    "print(a[np.arange(4),b])\n"
   ]
  },
  {
   "cell_type": "markdown",
   "metadata": {},
   "source": [
    "## Advanced Indexing"
   ]
  },
  {
   "cell_type": "code",
   "execution_count": null,
   "metadata": {},
   "outputs": [],
   "source": [
    "a = np.array([[1,2,3,4],[4,5,6,7],[7,8,9,4],[10,11,12,45]])\n",
    "print(a)\n",
    "b = a[0:2,1:3]\n",
    "c = a[0:2,[1,3]]\n",
    "print(b)\n",
    "print(c)"
   ]
  },
  {
   "cell_type": "markdown",
   "metadata": {},
   "source": [
    "## Boolean Indexing\n"
   ]
  },
  {
   "cell_type": "code",
   "execution_count": null,
   "metadata": {},
   "outputs": [],
   "source": [
    "a = np.array([[1,2,3],[4,5,6],[7,8,9],[10,11,12]])\n",
    "print(a)\n",
    "y=(a>5) # returns 2D array of BOOLEAN of x's array which satisfies the conditions\n",
    "z=a[a>5] # returns 1D array with elemnts in x who satisfies the condition\n",
    "print(y)\n",
    "print(z)\n"
   ]
  },
  {
   "cell_type": "code",
   "execution_count": null,
   "metadata": {},
   "outputs": [],
   "source": []
  },
  {
   "cell_type": "markdown",
   "metadata": {},
   "source": [
    "## Array Math\n"
   ]
  },
  {
   "cell_type": "code",
   "execution_count": null,
   "metadata": {},
   "outputs": [],
   "source": [
    "x = np.array([[1,2],[3,4]], dtype=np.float64)\n",
    "y = np.array([[1,2],[3,4]], dtype=np.float64)\n",
    "\n",
    "\n",
    "#Element wise operation\n",
    "print(x+y)\n",
    "print(np.add(x,y))\n",
    "print(\"---------------------\")\n",
    "\n",
    "print(x-y)\n",
    "print(np.subtract(x,y))\n",
    "print(\"---------------------\")\n",
    "\n",
    "print(x*y)\n",
    "print(np.multiply(x,y))\n",
    "print(\"---------------------\")\n",
    "\n",
    "print(x/y)\n",
    "print(np.divide(x,y))\n",
    "print(\"---------------------\")\n",
    "\n",
    "print(np.sqrt(x))\n",
    "\n",
    "\n",
    "#tra"
   ]
  },
  {
   "cell_type": "markdown",
   "metadata": {},
   "source": [
    "apart from coputing mathematical functions using, we frequently need to  reshape or otherwise manipulate data in arrays. the simplest example ofthis type of operation is transposing a matrix; to transpose a matrix simply use T attribure o an array object"
   ]
  },
  {
   "cell_type": "code",
   "execution_count": null,
   "metadata": {},
   "outputs": [],
   "source": [
    "#Transpose a matrix\n",
    "\n",
    "x = np.array([[1,2],[3,4]])\n",
    "print(x)\n",
    "print(x.T)"
   ]
  },
  {
   "cell_type": "code",
   "execution_count": null,
   "metadata": {},
   "outputs": [],
   "source": []
  },
  {
   "cell_type": "code",
   "execution_count": null,
   "metadata": {},
   "outputs": [],
   "source": []
  },
  {
   "cell_type": "code",
   "execution_count": null,
   "metadata": {},
   "outputs": [],
   "source": []
  },
  {
   "cell_type": "code",
   "execution_count": null,
   "metadata": {},
   "outputs": [],
   "source": []
  },
  {
   "cell_type": "code",
   "execution_count": null,
   "metadata": {},
   "outputs": [],
   "source": []
  },
  {
   "cell_type": "code",
   "execution_count": null,
   "metadata": {},
   "outputs": [],
   "source": []
  },
  {
   "cell_type": "code",
   "execution_count": null,
   "metadata": {},
   "outputs": [],
   "source": []
  },
  {
   "cell_type": "code",
   "execution_count": null,
   "metadata": {},
   "outputs": [],
   "source": []
  },
  {
   "cell_type": "markdown",
   "metadata": {},
   "source": [
    "# Exercise"
   ]
  },
  {
   "cell_type": "markdown",
   "metadata": {},
   "source": [
    "## Problem 7:\n",
    "Heads and legs puzzle\n",
    "\n",
    "we count x heads and y legs among the chickens, rabbits, and snakes in a farm . how many rabbits, chickens and snakes do we have ?\n"
   ]
  },
  {
   "cell_type": "code",
   "execution_count": null,
   "metadata": {},
   "outputs": [],
   "source": [
    "# heads = int(input(\"Enter No Of Heads\"))\n",
    "# legs = int(input(\"Enter No Of Legs\"))\n",
    "\n",
    "# cr_heads = int(legs/2)\n",
    "# s_heads = 0\n",
    "\n",
    "# heads_by_legs=cr_heads+s_heads\n",
    "\n",
    "# if heads_by_legs < heads:\n",
    "#     diff_heads = heads_by_legs - heads\n",
    "#     c_r=c_r-(diff_heads/2)\n",
    "# ### NOT the GOOD WAY TO THINK"
   ]
  },
  {
   "cell_type": "code",
   "execution_count": 1,
   "metadata": {},
   "outputs": [
    {
     "name": "stdout",
     "output_type": "stream",
     "text": [
      "Enter No Of Heads7\n",
      "Enter No Of Legs12\n",
      "C = 0 Rabbits= 3 s= 4\n",
      "C = 2 Rabbits= 2 s= 3\n",
      "C = 2 Rabbits= 2 s= 3\n",
      "C = 2 Rabbits= 2 s= 3\n",
      "C = 0 Rabbits= 3 s= 4\n",
      "C = 2 Rabbits= 2 s= 3\n",
      "C = 2 Rabbits= 2 s= 3\n",
      "C = 0 Rabbits= 3 s= 4\n",
      "C = 2 Rabbits= 2 s= 3\n",
      "C = 0 Rabbits= 3 s= 4\n",
      "C = 2 Rabbits= 2 s= 3\n",
      "C = 2 Rabbits= 2 s= 3\n",
      "C = 2 Rabbits= 2 s= 3\n",
      "C = 2 Rabbits= 2 s= 3\n",
      "C = 4 Rabbits= 1 s= 2\n",
      "C = 4 Rabbits= 1 s= 2\n",
      "C = 2 Rabbits= 2 s= 3\n",
      "C = 4 Rabbits= 1 s= 2\n",
      "C = 2 Rabbits= 2 s= 3\n",
      "C = 2 Rabbits= 2 s= 3\n",
      "C = 2 Rabbits= 2 s= 3\n",
      "C = 2 Rabbits= 2 s= 3\n",
      "C = 4 Rabbits= 1 s= 2\n",
      "C = 2 Rabbits= 2 s= 3\n",
      "C = 2 Rabbits= 2 s= 3\n",
      "C = 2 Rabbits= 2 s= 3\n",
      "C = 0 Rabbits= 3 s= 4\n",
      "C = 2 Rabbits= 2 s= 3\n",
      "C = 2 Rabbits= 2 s= 3\n",
      "C = 0 Rabbits= 3 s= 4\n",
      "C = 2 Rabbits= 2 s= 3\n",
      "C = 0 Rabbits= 3 s= 4\n",
      "C = 2 Rabbits= 2 s= 3\n",
      "C = 2 Rabbits= 2 s= 3\n",
      "C = 2 Rabbits= 2 s= 3\n",
      "C = 4 Rabbits= 1 s= 2\n",
      "C = 2 Rabbits= 2 s= 3\n",
      "C = 2 Rabbits= 2 s= 3\n",
      "C = 2 Rabbits= 2 s= 3\n",
      "C = 0 Rabbits= 3 s= 4\n",
      "C = 2 Rabbits= 2 s= 3\n",
      "C = 0 Rabbits= 3 s= 4\n",
      "C = 2 Rabbits= 2 s= 3\n",
      "C = 2 Rabbits= 2 s= 3\n",
      "C = 0 Rabbits= 3 s= 4\n",
      "C = 2 Rabbits= 2 s= 3\n",
      "C = 2 Rabbits= 2 s= 3\n",
      "C = 2 Rabbits= 2 s= 3\n",
      "C = 2 Rabbits= 2 s= 3\n",
      "C = 4 Rabbits= 1 s= 2\n",
      "C = 4 Rabbits= 1 s= 2\n",
      "C = 2 Rabbits= 2 s= 3\n",
      "C = 4 Rabbits= 1 s= 2\n",
      "C = 2 Rabbits= 2 s= 3\n",
      "C = 2 Rabbits= 2 s= 3\n",
      "C = 2 Rabbits= 2 s= 3\n",
      "C = 2 Rabbits= 2 s= 3\n",
      "C = 4 Rabbits= 1 s= 2\n",
      "C = 2 Rabbits= 2 s= 3\n",
      "C = 2 Rabbits= 2 s= 3\n",
      "C = 2 Rabbits= 2 s= 3\n",
      "C = 2 Rabbits= 2 s= 3\n",
      "C = 4 Rabbits= 1 s= 2\n",
      "C = 4 Rabbits= 1 s= 2\n",
      "C = 2 Rabbits= 2 s= 3\n",
      "C = 4 Rabbits= 1 s= 2\n",
      "C = 2 Rabbits= 2 s= 3\n",
      "C = 4 Rabbits= 1 s= 2\n",
      "C = 4 Rabbits= 1 s= 2\n",
      "C = 4 Rabbits= 1 s= 2\n",
      "C = 6 Rabbits= 0 s= 1\n",
      "C = 4 Rabbits= 1 s= 2\n",
      "C = 4 Rabbits= 1 s= 2\n",
      "C = 4 Rabbits= 1 s= 2\n",
      "C = 2 Rabbits= 2 s= 3\n",
      "C = 4 Rabbits= 1 s= 2\n",
      "C = 2 Rabbits= 2 s= 3\n",
      "C = 4 Rabbits= 1 s= 2\n",
      "C = 4 Rabbits= 1 s= 2\n",
      "C = 2 Rabbits= 2 s= 3\n",
      "C = 2 Rabbits= 2 s= 3\n",
      "C = 2 Rabbits= 2 s= 3\n",
      "C = 2 Rabbits= 2 s= 3\n",
      "C = 4 Rabbits= 1 s= 2\n",
      "C = 2 Rabbits= 2 s= 3\n",
      "C = 2 Rabbits= 2 s= 3\n",
      "C = 2 Rabbits= 2 s= 3\n",
      "C = 2 Rabbits= 2 s= 3\n",
      "C = 4 Rabbits= 1 s= 2\n",
      "C = 2 Rabbits= 2 s= 3\n",
      "C = 4 Rabbits= 1 s= 2\n",
      "C = 4 Rabbits= 1 s= 2\n",
      "C = 2 Rabbits= 2 s= 3\n",
      "C = 2 Rabbits= 2 s= 3\n",
      "C = 2 Rabbits= 2 s= 3\n",
      "C = 2 Rabbits= 2 s= 3\n",
      "C = 0 Rabbits= 3 s= 4\n",
      "C = 2 Rabbits= 2 s= 3\n",
      "C = 2 Rabbits= 2 s= 3\n",
      "C = 0 Rabbits= 3 s= 4\n",
      "C = 2 Rabbits= 2 s= 3\n",
      "C = 0 Rabbits= 3 s= 4\n",
      "C = 2 Rabbits= 2 s= 3\n",
      "C = 2 Rabbits= 2 s= 3\n",
      "C = 2 Rabbits= 2 s= 3\n",
      "C = 4 Rabbits= 1 s= 2\n",
      "C = 2 Rabbits= 2 s= 3\n",
      "C = 2 Rabbits= 2 s= 3\n",
      "C = 2 Rabbits= 2 s= 3\n",
      "C = 0 Rabbits= 3 s= 4\n",
      "C = 2 Rabbits= 2 s= 3\n",
      "C = 0 Rabbits= 3 s= 4\n",
      "C = 2 Rabbits= 2 s= 3\n",
      "C = 2 Rabbits= 2 s= 3\n",
      "C = 0 Rabbits= 3 s= 4\n",
      "C = 2 Rabbits= 2 s= 3\n",
      "C = 2 Rabbits= 2 s= 3\n",
      "C = 2 Rabbits= 2 s= 3\n",
      "C = 4 Rabbits= 1 s= 2\n",
      "C = 2 Rabbits= 2 s= 3\n",
      "C = 2 Rabbits= 2 s= 3\n",
      "C = 2 Rabbits= 2 s= 3\n",
      "C = 2 Rabbits= 2 s= 3\n",
      "C = 4 Rabbits= 1 s= 2\n",
      "C = 2 Rabbits= 2 s= 3\n",
      "C = 4 Rabbits= 1 s= 2\n",
      "C = 4 Rabbits= 1 s= 2\n",
      "C = 2 Rabbits= 2 s= 3\n",
      "C = 2 Rabbits= 2 s= 3\n",
      "C = 2 Rabbits= 2 s= 3\n",
      "C = 2 Rabbits= 2 s= 3\n",
      "C = 0 Rabbits= 3 s= 4\n",
      "C = 2 Rabbits= 2 s= 3\n",
      "C = 0 Rabbits= 3 s= 4\n",
      "C = 2 Rabbits= 2 s= 3\n",
      "C = 2 Rabbits= 2 s= 3\n",
      "C = 0 Rabbits= 3 s= 4\n",
      "C = 2 Rabbits= 2 s= 3\n",
      "C = 2 Rabbits= 2 s= 3\n",
      "C = 2 Rabbits= 2 s= 3\n",
      "C = 0 Rabbits= 3 s= 4\n",
      "C = 2 Rabbits= 2 s= 3\n",
      "C = 2 Rabbits= 2 s= 3\n",
      "C = 2 Rabbits= 2 s= 3\n",
      "C = 2 Rabbits= 2 s= 3\n",
      "C = 4 Rabbits= 1 s= 2\n",
      "C = 4 Rabbits= 1 s= 2\n",
      "C = 2 Rabbits= 2 s= 3\n",
      "C = 4 Rabbits= 1 s= 2\n",
      "C = 2 Rabbits= 2 s= 3\n",
      "C = 2 Rabbits= 2 s= 3\n",
      "C = 2 Rabbits= 2 s= 3\n",
      "C = 2 Rabbits= 2 s= 3\n",
      "C = 4 Rabbits= 1 s= 2\n",
      "C = 2 Rabbits= 2 s= 3\n",
      "C = 2 Rabbits= 2 s= 3\n",
      "C = 2 Rabbits= 2 s= 3\n",
      "C = 2 Rabbits= 2 s= 3\n",
      "C = 4 Rabbits= 1 s= 2\n",
      "C = 4 Rabbits= 1 s= 2\n",
      "C = 2 Rabbits= 2 s= 3\n",
      "C = 4 Rabbits= 1 s= 2\n",
      "C = 2 Rabbits= 2 s= 3\n",
      "C = 4 Rabbits= 1 s= 2\n",
      "C = 4 Rabbits= 1 s= 2\n",
      "C = 4 Rabbits= 1 s= 2\n",
      "C = 6 Rabbits= 0 s= 1\n",
      "C = 4 Rabbits= 1 s= 2\n",
      "C = 4 Rabbits= 1 s= 2\n",
      "C = 4 Rabbits= 1 s= 2\n",
      "C = 2 Rabbits= 2 s= 3\n",
      "C = 4 Rabbits= 1 s= 2\n",
      "C = 2 Rabbits= 2 s= 3\n",
      "C = 4 Rabbits= 1 s= 2\n",
      "C = 4 Rabbits= 1 s= 2\n",
      "C = 2 Rabbits= 2 s= 3\n",
      "C = 2 Rabbits= 2 s= 3\n",
      "C = 2 Rabbits= 2 s= 3\n",
      "C = 2 Rabbits= 2 s= 3\n",
      "C = 4 Rabbits= 1 s= 2\n",
      "C = 2 Rabbits= 2 s= 3\n",
      "C = 2 Rabbits= 2 s= 3\n",
      "C = 2 Rabbits= 2 s= 3\n",
      "C = 2 Rabbits= 2 s= 3\n",
      "C = 4 Rabbits= 1 s= 2\n",
      "C = 2 Rabbits= 2 s= 3\n",
      "C = 4 Rabbits= 1 s= 2\n",
      "C = 4 Rabbits= 1 s= 2\n",
      "C = 2 Rabbits= 2 s= 3\n",
      "C = 2 Rabbits= 2 s= 3\n",
      "C = 2 Rabbits= 2 s= 3\n",
      "C = 2 Rabbits= 2 s= 3\n",
      "C = 2 Rabbits= 2 s= 3\n",
      "C = 4 Rabbits= 1 s= 2\n",
      "C = 4 Rabbits= 1 s= 2\n",
      "C = 2 Rabbits= 2 s= 3\n",
      "C = 4 Rabbits= 1 s= 2\n",
      "C = 2 Rabbits= 2 s= 3\n",
      "C = 4 Rabbits= 1 s= 2\n",
      "C = 4 Rabbits= 1 s= 2\n",
      "C = 4 Rabbits= 1 s= 2\n",
      "C = 6 Rabbits= 0 s= 1\n",
      "C = 4 Rabbits= 1 s= 2\n",
      "C = 4 Rabbits= 1 s= 2\n",
      "C = 4 Rabbits= 1 s= 2\n",
      "C = 2 Rabbits= 2 s= 3\n",
      "C = 4 Rabbits= 1 s= 2\n",
      "C = 2 Rabbits= 2 s= 3\n",
      "C = 4 Rabbits= 1 s= 2\n",
      "C = 4 Rabbits= 1 s= 2\n",
      "C = 2 Rabbits= 2 s= 3\n",
      "C = 4 Rabbits= 1 s= 2\n",
      "C = 4 Rabbits= 1 s= 2\n",
      "C = 4 Rabbits= 1 s= 2\n",
      "C = 6 Rabbits= 0 s= 1\n",
      "C = 4 Rabbits= 1 s= 2\n",
      "C = 4 Rabbits= 1 s= 2\n",
      "C = 4 Rabbits= 1 s= 2\n",
      "C = 4 Rabbits= 1 s= 2\n",
      "C = 6 Rabbits= 0 s= 1\n",
      "C = 4 Rabbits= 1 s= 2\n",
      "C = 6 Rabbits= 0 s= 1\n",
      "C = 6 Rabbits= 0 s= 1\n",
      "C = 4 Rabbits= 1 s= 2\n",
      "C = 4 Rabbits= 1 s= 2\n",
      "C = 4 Rabbits= 1 s= 2\n",
      "C = 4 Rabbits= 1 s= 2\n",
      "C = 2 Rabbits= 2 s= 3\n",
      "C = 4 Rabbits= 1 s= 2\n",
      "C = 2 Rabbits= 2 s= 3\n",
      "C = 4 Rabbits= 1 s= 2\n",
      "C = 4 Rabbits= 1 s= 2\n",
      "C = 2 Rabbits= 2 s= 3\n",
      "C = 4 Rabbits= 1 s= 2\n",
      "C = 4 Rabbits= 1 s= 2\n",
      "C = 4 Rabbits= 1 s= 2\n",
      "C = 2 Rabbits= 2 s= 3\n",
      "C = 2 Rabbits= 2 s= 3\n",
      "C = 2 Rabbits= 2 s= 3\n",
      "C = 2 Rabbits= 2 s= 3\n",
      "C = 4 Rabbits= 1 s= 2\n",
      "C = 2 Rabbits= 2 s= 3\n",
      "C = 2 Rabbits= 2 s= 3\n",
      "C = 2 Rabbits= 2 s= 3\n",
      "C = 2 Rabbits= 2 s= 3\n",
      "C = 4 Rabbits= 1 s= 2\n",
      "C = 2 Rabbits= 2 s= 3\n",
      "C = 4 Rabbits= 1 s= 2\n",
      "C = 4 Rabbits= 1 s= 2\n",
      "C = 2 Rabbits= 2 s= 3\n",
      "C = 2 Rabbits= 2 s= 3\n",
      "C = 2 Rabbits= 2 s= 3\n",
      "C = 2 Rabbits= 2 s= 3\n",
      "C = 2 Rabbits= 2 s= 3\n",
      "C = 4 Rabbits= 1 s= 2\n",
      "C = 2 Rabbits= 2 s= 3\n",
      "C = 4 Rabbits= 1 s= 2\n",
      "C = 4 Rabbits= 1 s= 2\n",
      "C = 2 Rabbits= 2 s= 3\n",
      "C = 4 Rabbits= 1 s= 2\n",
      "C = 4 Rabbits= 1 s= 2\n",
      "C = 4 Rabbits= 1 s= 2\n",
      "C = 2 Rabbits= 2 s= 3\n",
      "C = 2 Rabbits= 2 s= 3\n",
      "C = 2 Rabbits= 2 s= 3\n",
      "C = 2 Rabbits= 2 s= 3\n",
      "C = 2 Rabbits= 2 s= 3\n",
      "C = 0 Rabbits= 3 s= 4\n",
      "C = 2 Rabbits= 2 s= 3\n",
      "C = 2 Rabbits= 2 s= 3\n",
      "C = 0 Rabbits= 3 s= 4\n",
      "C = 2 Rabbits= 2 s= 3\n",
      "C = 0 Rabbits= 3 s= 4\n",
      "C = 2 Rabbits= 2 s= 3\n",
      "C = 2 Rabbits= 2 s= 3\n",
      "C = 2 Rabbits= 2 s= 3\n",
      "C = 4 Rabbits= 1 s= 2\n",
      "C = 2 Rabbits= 2 s= 3\n",
      "C = 2 Rabbits= 2 s= 3\n",
      "C = 2 Rabbits= 2 s= 3\n",
      "C = 0 Rabbits= 3 s= 4\n",
      "C = 2 Rabbits= 2 s= 3\n",
      "C = 0 Rabbits= 3 s= 4\n",
      "C = 2 Rabbits= 2 s= 3\n",
      "C = 2 Rabbits= 2 s= 3\n",
      "C = 0 Rabbits= 3 s= 4\n",
      "C = 2 Rabbits= 2 s= 3\n",
      "C = 2 Rabbits= 2 s= 3\n",
      "C = 2 Rabbits= 2 s= 3\n",
      "C = 4 Rabbits= 1 s= 2\n",
      "C = 2 Rabbits= 2 s= 3\n",
      "C = 2 Rabbits= 2 s= 3\n",
      "C = 2 Rabbits= 2 s= 3\n",
      "C = 2 Rabbits= 2 s= 3\n",
      "C = 4 Rabbits= 1 s= 2\n",
      "C = 2 Rabbits= 2 s= 3\n",
      "C = 4 Rabbits= 1 s= 2\n",
      "C = 4 Rabbits= 1 s= 2\n",
      "C = 2 Rabbits= 2 s= 3\n",
      "C = 2 Rabbits= 2 s= 3\n",
      "C = 2 Rabbits= 2 s= 3\n",
      "C = 2 Rabbits= 2 s= 3\n",
      "C = 0 Rabbits= 3 s= 4\n",
      "C = 2 Rabbits= 2 s= 3\n",
      "C = 0 Rabbits= 3 s= 4\n",
      "C = 2 Rabbits= 2 s= 3\n",
      "C = 2 Rabbits= 2 s= 3\n",
      "C = 0 Rabbits= 3 s= 4\n",
      "C = 2 Rabbits= 2 s= 3\n",
      "C = 2 Rabbits= 2 s= 3\n",
      "C = 2 Rabbits= 2 s= 3\n",
      "C = 0 Rabbits= 3 s= 4\n",
      "C = 2 Rabbits= 2 s= 3\n",
      "C = 2 Rabbits= 2 s= 3\n",
      "C = 2 Rabbits= 2 s= 3\n",
      "C = 4 Rabbits= 1 s= 2\n",
      "C = 2 Rabbits= 2 s= 3\n",
      "C = 2 Rabbits= 2 s= 3\n",
      "C = 2 Rabbits= 2 s= 3\n",
      "C = 2 Rabbits= 2 s= 3\n",
      "C = 4 Rabbits= 1 s= 2\n",
      "C = 2 Rabbits= 2 s= 3\n",
      "C = 4 Rabbits= 1 s= 2\n",
      "C = 4 Rabbits= 1 s= 2\n",
      "C = 2 Rabbits= 2 s= 3\n",
      "C = 2 Rabbits= 2 s= 3\n",
      "C = 2 Rabbits= 2 s= 3\n",
      "C = 2 Rabbits= 2 s= 3\n",
      "C = 2 Rabbits= 2 s= 3\n",
      "C = 4 Rabbits= 1 s= 2\n",
      "C = 2 Rabbits= 2 s= 3\n",
      "C = 4 Rabbits= 1 s= 2\n",
      "C = 4 Rabbits= 1 s= 2\n",
      "C = 2 Rabbits= 2 s= 3\n",
      "C = 4 Rabbits= 1 s= 2\n",
      "C = 4 Rabbits= 1 s= 2\n",
      "C = 4 Rabbits= 1 s= 2\n",
      "C = 2 Rabbits= 2 s= 3\n",
      "C = 2 Rabbits= 2 s= 3\n",
      "C = 2 Rabbits= 2 s= 3\n",
      "C = 2 Rabbits= 2 s= 3\n",
      "C = 2 Rabbits= 2 s= 3\n",
      "C = 0 Rabbits= 3 s= 4\n",
      "C = 2 Rabbits= 2 s= 3\n",
      "C = 0 Rabbits= 3 s= 4\n",
      "C = 2 Rabbits= 2 s= 3\n",
      "C = 2 Rabbits= 2 s= 3\n",
      "C = 0 Rabbits= 3 s= 4\n",
      "C = 2 Rabbits= 2 s= 3\n",
      "C = 2 Rabbits= 2 s= 3\n",
      "C = 2 Rabbits= 2 s= 3\n",
      "C = 0 Rabbits= 3 s= 4\n",
      "C = 2 Rabbits= 2 s= 3\n",
      "C = 2 Rabbits= 2 s= 3\n",
      "C = 2 Rabbits= 2 s= 3\n",
      "C = 2 Rabbits= 2 s= 3\n",
      "C = 0 Rabbits= 3 s= 4\n"
     ]
    }
   ],
   "source": [
    "def cal(h,l,c,r,s):\n",
    "    if h==0 and l==0:\n",
    "        print(\"C = {0} Rabbits= {1} s= {2}\".format(c,r,s))\n",
    "        return\n",
    "    elif h==0 and l!=0:\n",
    "        return       \n",
    "    else:\n",
    "        cal(h-1,l,c,r,s+1)\n",
    "        cal(h-1,l-2,c+1,r,s)\n",
    "        cal(h-1,l-4,c,r+1,s)\n",
    "        \n",
    "        \n",
    "heads = int(input(\"Enter No Of Heads\"))\n",
    "legs = int(input(\"Enter No Of Legs\"))\n",
    "cal(heads,legs,0,0,0)"
   ]
  },
  {
   "cell_type": "code",
   "execution_count": 4,
   "metadata": {},
   "outputs": [
    {
     "name": "stdout",
     "output_type": "stream",
     "text": [
      "Enter No Of Heads7\n",
      "Enter No Of Legs12\n",
      "\n",
      "Possible combinations are :\n",
      "Chickens : 0 Rabbits: 3 Snakes: 4\n",
      "Chickens : 2 Rabbits: 2 Snakes: 3\n",
      "Chickens : 4 Rabbits: 1 Snakes: 2\n",
      "Chickens : 6 Rabbits: 0 Snakes: 1\n"
     ]
    }
   ],
   "source": [
    "###### Updated Version\n",
    "\n",
    "# Global array\n",
    "comb=[]\n",
    "\n",
    "def addcomb(c,r,s):\n",
    "    for i in range(len(comb)):\n",
    "        if comb[i][0]==c and comb[i][1]==r and comb[i][2]==s:\n",
    "            return\n",
    "    comb.append([c,r,s])\n",
    "    return\n",
    "\n",
    "def cal(h,l,c,r,s):\n",
    "    if h==0 and l==0:\n",
    "        addcomb(c,r,s)\n",
    "        return\n",
    "    elif h==0 and l!=0:\n",
    "        return       \n",
    "    else:\n",
    "        cal(h-1,l,c,r,s+1)\n",
    "        cal(h-1,l-2,c+1,r,s)\n",
    "        cal(h-1,l-4,c,r+1,s)\n",
    "        \n",
    "\n",
    "heads = int(input(\"Enter No Of Heads\"))\n",
    "legs = int(input(\"Enter No Of Legs\"))\n",
    "\n",
    "\n",
    "print(\"\\nPossible combinations are :\")\n",
    "cal(heads,legs,0,0,0)\n",
    "\n",
    "# print(np.array(comb))\n",
    "\n",
    "for animal in comb:\n",
    "    print(\"Chickens : {0} Rabbits: {1} Snakes: {2}\".format(animal[0],animal[1],animal[2]))\n",
    "    \n"
   ]
  },
  {
   "cell_type": "markdown",
   "metadata": {},
   "source": [
    "## Problem 8"
   ]
  },
  {
   "cell_type": "markdown",
   "metadata": {},
   "source": [
    "Matrix multiplication"
   ]
  },
  {
   "cell_type": "code",
   "execution_count": 1,
   "metadata": {},
   "outputs": [
    {
     "name": "stdout",
     "output_type": "stream",
     "text": [
      "Enter row of matrix-1 : 3\n",
      "Enter column of matrix-1 : 3\n",
      "Enter row of matrix-2 : 3\n",
      "Enter column of matrix-2 : 3\n",
      "Enter values for matrix-1 :\n",
      "Val: 234\n",
      "Val: 3\n",
      "Val: 4\n",
      "Val: 5\n",
      "Val: 6\n",
      "Val: 2\n",
      "Val: 3\n",
      "Val: 4\n",
      "Val: 4\n",
      "Enter values for matrix-2 :\n",
      "Val: 3\n",
      "Val: 4\n",
      "Val: 5\n",
      "Val: 1\n",
      "Val: 2\n",
      "Val: 34\n",
      "Val: 5\n",
      "Val: 3\n",
      "Val: 2\n",
      "[[ 725  954 1280]\n",
      " [  31   38  233]\n",
      " [  33   32  159]]\n"
     ]
    }
   ],
   "source": [
    "import numpy as np\n",
    "r1=int(input(\"Enter row of matrix-1 : \"))\n",
    "c1=int(input(\"Enter column of matrix-1 : \"))\n",
    "\n",
    "r2=int(input(\"Enter row of matrix-2 : \"))\n",
    "c2=int(input(\"Enter column of matrix-2 : \"))\n",
    "\n",
    "m1=[]\n",
    "m2=[]\n",
    "ans=[]\n",
    "if r1==c2:\n",
    "    print(\"Enter values for matrix-1 :\")\n",
    "    for x in range(r1):\n",
    "        t=[]\n",
    "        for y in range(c1):\n",
    "            k=int(input(\"Val: \"))\n",
    "            t.append(k)\n",
    "        m1.append(t)   \n",
    "        \n",
    "    print(\"Enter values for matrix-2 :\")\n",
    "    \n",
    "    for x in range(r2):\n",
    "        t=[]\n",
    "        for y in range(c2):\n",
    "            k=int(input(\"Val: \"))\n",
    "            t.append(k)\n",
    "        m2.append(t)\n",
    "        \n",
    "    \n",
    "    print(np.dot(np.array(m1),np.array(m2)))\n",
    "    \n",
    "else:\n",
    "    print(\"Wrong Dimensions !\")"
   ]
  },
  {
   "cell_type": "markdown",
   "metadata": {},
   "source": [
    "### Problem 9\n",
    "List compresnsion Identity matrix"
   ]
  },
  {
   "cell_type": "code",
   "execution_count": null,
   "metadata": {},
   "outputs": [],
   "source": [
    "# import numpy as np\n",
    "\n",
    "# list1=[]\n",
    "\n",
    "# for i in range(4):\n",
    "#     for j in range(4):\n",
    "#         t=[]\n",
    "#         x=0\n",
    "#         if i==j:\n",
    "#             x=1\n",
    "#         t.append(x)       \n",
    "#     list1.append(t)"
   ]
  },
  {
   "cell_type": "code",
   "execution_count": 2,
   "metadata": {},
   "outputs": [
    {
     "name": "stdout",
     "output_type": "stream",
     "text": [
      "Enter rows for matrix10\n",
      "[[1 0 0 0 0 0 0 0 0 0]\n",
      " [0 1 0 0 0 0 0 0 0 0]\n",
      " [0 0 1 0 0 0 0 0 0 0]\n",
      " [0 0 0 1 0 0 0 0 0 0]\n",
      " [0 0 0 0 1 0 0 0 0 0]\n",
      " [0 0 0 0 0 1 0 0 0 0]\n",
      " [0 0 0 0 0 0 1 0 0 0]\n",
      " [0 0 0 0 0 0 0 1 0 0]\n",
      " [0 0 0 0 0 0 0 0 1 0]\n",
      " [0 0 0 0 0 0 0 0 0 1]]\n"
     ]
    }
   ],
   "source": [
    "import numpy as np\n",
    "n=int(input(\"Enter rows for matrix\"))\n",
    "print(np.array([[1 if i==j else 0 for j in range(n)] for i in range(n)] ))"
   ]
  },
  {
   "cell_type": "code",
   "execution_count": null,
   "metadata": {},
   "outputs": [],
   "source": []
  }
 ],
 "metadata": {
  "kernelspec": {
   "display_name": "Python 3",
   "language": "python",
   "name": "python3"
  },
  "language_info": {
   "codemirror_mode": {
    "name": "ipython",
    "version": 3
   },
   "file_extension": ".py",
   "mimetype": "text/x-python",
   "name": "python",
   "nbconvert_exporter": "python",
   "pygments_lexer": "ipython3",
   "version": "3.7.1"
  }
 },
 "nbformat": 4,
 "nbformat_minor": 2
}
