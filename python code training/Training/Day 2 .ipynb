{
 "cells": [
  {
   "cell_type": "markdown",
   "metadata": {},
   "source": [
    "## Day 2\n",
    "## Advanced Python Scripting"
   ]
  },
  {
   "cell_type": "code",
   "execution_count": null,
   "metadata": {},
   "outputs": [],
   "source": [
    "#Square of numbers from 1-9\n",
    "squares=[]\n",
    "for i in range(1,9):\n",
    "    squares.append(pow(i,2))  #i**2\n",
    "print(squares)\n"
   ]
  },
  {
   "cell_type": "markdown",
   "metadata": {},
   "source": [
    "## List Comprenhisions\n",
    "\n",
    "faster than the generator comprensions"
   ]
  },
  {
   "cell_type": "markdown",
   "metadata": {},
   "source": [
    "list =  [ \"END_Product\"   \"Loop_acc_ to_end_product\" ]"
   ]
  },
  {
   "cell_type": "code",
   "execution_count": null,
   "metadata": {},
   "outputs": [],
   "source": [
    "squares =[x**2 for x in range(1,9)]\n",
    "print(squares)"
   ]
  },
  {
   "cell_type": "code",
   "execution_count": null,
   "metadata": {},
   "outputs": [],
   "source": [
    "even_nums = [x for x in range(1,20) if x%2==0]  # the if will automatically return the \"x\" value \n",
    "# even_nums = [ x*2 for x in range(1,20) ] <<< Other way \n",
    "print(even_nums)\n",
    "print(type(even_nums))"
   ]
  },
  {
   "cell_type": "code",
   "execution_count": null,
   "metadata": {},
   "outputs": [],
   "source": [
    "for x in [1,2,3]:\n",
    "    for y in [3,1,4]:\n",
    "        if x!=y:\n",
    "            print(x,y)"
   ]
  },
  {
   "cell_type": "code",
   "execution_count": 2,
   "metadata": {},
   "outputs": [
    {
     "name": "stdout",
     "output_type": "stream",
     "text": [
      "<class 'list'>\n"
     ]
    },
    {
     "data": {
      "text/plain": [
       "[(1, 3), (1, 4), (2, 3), (2, 1), (2, 4), (3, 1), (3, 4)]"
      ]
     },
     "execution_count": 2,
     "metadata": {},
     "output_type": "execute_result"
    }
   ],
   "source": [
    "lst = [(x,y) for x in [1,2,3] for y in [3,1,4] if x!=y ]\n",
    "print(type(lst))\n",
    "lst"
   ]
  },
  {
   "cell_type": "code",
   "execution_count": null,
   "metadata": {},
   "outputs": [],
   "source": []
  },
  {
   "cell_type": "markdown",
   "metadata": {},
   "source": [
    "# Generator  Comprensions\n",
    "\n",
    "we don't get direct \n",
    "\n",
    "we have extract using for loop   :: Adv :: we can extract when ever we want\n"
   ]
  },
  {
   "cell_type": "code",
   "execution_count": 4,
   "metadata": {},
   "outputs": [
    {
     "name": "stdout",
     "output_type": "stream",
     "text": [
      "<class 'generator'>\n"
     ]
    }
   ],
   "source": [
    "lst = ( (x,y) for x in [1,2,3] for y in [3,1,4] if x!=y )\n",
    "print(type(lst))"
   ]
  },
  {
   "cell_type": "code",
   "execution_count": null,
   "metadata": {},
   "outputs": [],
   "source": [
    "r= int(input(\"Enter range \"))\n",
    "evenlist = (i for i in range(r) if i%2==0)\n",
    "print(type(evenlist))\n",
    "print(evenlist) # Since, it is generator expressions we can get the stuff directly , we have to extract\n",
    "for x in evenlist:\n",
    "    print(x)\n",
    "\n"
   ]
  },
  {
   "cell_type": "markdown",
   "metadata": {},
   "source": [
    "# Lambda and Map Functions"
   ]
  },
  {
   "cell_type": "markdown",
   "metadata": {},
   "source": [
    "\n",
    "## Lambda Functions"
   ]
  },
  {
   "cell_type": "code",
   "execution_count": null,
   "metadata": {},
   "outputs": [],
   "source": [
    "# Syntax"
   ]
  },
  {
   "cell_type": "code",
   "execution_count": null,
   "metadata": {},
   "outputs": [],
   "source": [
    "#Normal Function\n",
    "def cube(y):\n",
    "    return y*y*y\n",
    "\n",
    "#lambda function\n",
    "g= lambda x: x*x*x\n",
    "\n",
    "\n",
    "print(g(7))\n",
    "print(cube(7))\n"
   ]
  },
  {
   "cell_type": "code",
   "execution_count": null,
   "metadata": {},
   "outputs": [],
   "source": [
    "sumVal = lambda x,y : x+y  #arguments and expressions\n",
    "sumVal(3,4)\n",
    "\n",
    "square = lambda x : x**2\n",
    "# square(5)"
   ]
  },
  {
   "cell_type": "markdown",
   "metadata": {},
   "source": []
  },
  {
   "cell_type": "markdown",
   "metadata": {},
   "source": [
    "## Map Functions \n",
    "\n",
    "map will return map object so type cast to list <br>\n",
    "we give an expression and  iteration list to map<br>\n"
   ]
  },
  {
   "cell_type": "code",
   "execution_count": null,
   "metadata": {},
   "outputs": [],
   "source": [
    "list(map(lambda x: x**2, [1,2,3,4]))"
   ]
  },
  {
   "cell_type": "code",
   "execution_count": null,
   "metadata": {},
   "outputs": [],
   "source": [
    "squares = list(map(lambda x : x**2, range(1,10)))\n",
    "print(squares)"
   ]
  },
  {
   "cell_type": "code",
   "execution_count": null,
   "metadata": {},
   "outputs": [],
   "source": [
    "squares = list(map(lambda x: x**2, [1,2,3,4,5]))\n",
    "squares"
   ]
  },
  {
   "cell_type": "code",
   "execution_count": null,
   "metadata": {},
   "outputs": [],
   "source": []
  },
  {
   "cell_type": "code",
   "execution_count": null,
   "metadata": {},
   "outputs": [],
   "source": []
  },
  {
   "cell_type": "code",
   "execution_count": null,
   "metadata": {},
   "outputs": [],
   "source": []
  },
  {
   "cell_type": "markdown",
   "metadata": {},
   "source": [
    "# Exception Handeling"
   ]
  },
  {
   "cell_type": "markdown",
   "metadata": {},
   "source": [
    "### Key Error"
   ]
  },
  {
   "cell_type": "code",
   "execution_count": null,
   "metadata": {},
   "outputs": [],
   "source": [
    "dic= {\n",
    "    'jan':30,\n",
    "    'feb':40,\n",
    "    'mar':55\n",
    "}\n",
    "dic['sds']"
   ]
  },
  {
   "cell_type": "code",
   "execution_count": null,
   "metadata": {},
   "outputs": [],
   "source": [
    "dic= {\n",
    "    'jan':30,\n",
    "    'feb':40,\n",
    "    'mar':55\n",
    "}\n",
    "\n",
    "try:\n",
    "    print(dic['dec'])\n",
    "except KeyError:\n",
    "    print(\"This object not present. Key could be wrong\")\n",
    "else:\n",
    "    print(\"Everything done well !\")"
   ]
  },
  {
   "cell_type": "markdown",
   "metadata": {},
   "source": [
    "### Value Error"
   ]
  },
  {
   "cell_type": "code",
   "execution_count": null,
   "metadata": {},
   "outputs": [],
   "source": [
    "int(\"String\")"
   ]
  },
  {
   "cell_type": "code",
   "execution_count": null,
   "metadata": {},
   "outputs": [],
   "source": [
    "try:\n",
    "    int(\"String\")\n",
    "except ValueError:\n",
    "    print(\"Got Value Error\")\n",
    "else:\n",
    "    print(\"Done Well !\")"
   ]
  },
  {
   "cell_type": "markdown",
   "metadata": {},
   "source": [
    "### Type Error"
   ]
  },
  {
   "cell_type": "code",
   "execution_count": null,
   "metadata": {},
   "outputs": [],
   "source": [
    "print(\"404\"+444)"
   ]
  },
  {
   "cell_type": "code",
   "execution_count": null,
   "metadata": {},
   "outputs": [],
   "source": [
    "try:\n",
    "    print(\"404\"+444)\n",
    "except TypeError:\n",
    "    print(\"Got Type Error\")\n",
    "else:\n",
    "    print(\"Done Well !\")"
   ]
  },
  {
   "cell_type": "markdown",
   "metadata": {},
   "source": [
    "### Zero Division Error"
   ]
  },
  {
   "cell_type": "code",
   "execution_count": null,
   "metadata": {},
   "outputs": [],
   "source": [
    "print(5/0)"
   ]
  },
  {
   "cell_type": "code",
   "execution_count": null,
   "metadata": {},
   "outputs": [],
   "source": [
    "try:\n",
    "    print(5/0)\n",
    "except ZeroDivisionError:\n",
    "    print(\"Got Zero Division Error\")\n",
    "else:\n",
    "    print(\"Done Well !\")"
   ]
  },
  {
   "cell_type": "markdown",
   "metadata": {},
   "source": [
    "### Over Flow Error"
   ]
  },
  {
   "cell_type": "code",
   "execution_count": null,
   "metadata": {},
   "outputs": [],
   "source": [
    "i=1\n",
    "\n",
    "f=3.0**i\n",
    "for i in range(100):\n",
    "    print(i,f)\n",
    "    f=f**2\n"
   ]
  },
  {
   "cell_type": "code",
   "execution_count": null,
   "metadata": {},
   "outputs": [],
   "source": [
    "try:\n",
    "    i=1\n",
    "    f=3.0**i\n",
    "    for i in range(100):\n",
    "        print(i,f)\n",
    "        f=f**2\n",
    "except OverflowError:\n",
    "    print(\"Over flow error occured!\")\n",
    "else:\n",
    "    print(\"Done Well!\")"
   ]
  },
  {
   "cell_type": "markdown",
   "metadata": {},
   "source": [
    "### Syntax Error"
   ]
  },
  {
   "cell_type": "code",
   "execution_count": null,
   "metadata": {},
   "outputs": [],
   "source": [
    "try :\n",
    "    "
   ]
  },
  {
   "cell_type": "markdown",
   "metadata": {},
   "source": [
    "### FileNotFoundError\n"
   ]
  },
  {
   "cell_type": "code",
   "execution_count": null,
   "metadata": {},
   "outputs": [],
   "source": [
    "try:\n",
    "    fo = open(\"D:/project/Course/python/tasdasdest.txt\",\"r\")\n",
    "except FileNotFoundError:\n",
    "    print(\"File is not found\")\n",
    "else:\n",
    "    print(\"Done file found !! \")\n",
    "    print(fo.name)\n",
    "    print(fo.mode)\n",
    "    print(fo.closed)\n",
    "    fo.close()\n",
    "    print(fo.closed)"
   ]
  },
  {
   "cell_type": "code",
   "execution_count": null,
   "metadata": {},
   "outputs": [],
   "source": [
    "## Additional feature of python 3\n",
    "\n",
    "list1=1,2,3,4\n",
    "print (type(list1))"
   ]
  },
  {
   "cell_type": "markdown",
   "metadata": {},
   "source": [
    "## String Literals"
   ]
  },
  {
   "cell_type": "markdown",
   "metadata": {},
   "source": [
    "\\b == backspace <br>\n",
    "\\t == tab space <br>\n",
    "\\n == new line <br>\n",
    "\\r == remove previous <br> "
   ]
  },
  {
   "cell_type": "code",
   "execution_count": null,
   "metadata": {},
   "outputs": [],
   "source": [
    "print(\"one.\\n>two\")\n",
    "print(\"----------------\")\n",
    "print(\"one.\\t=>two\")\n",
    "print(\"----------------\")\n",
    "print(\"one.\\b>two\")\n",
    "print(\"----------------\")\n",
    "print(\"one.\\r>two\")"
   ]
  },
  {
   "cell_type": "markdown",
   "metadata": {},
   "source": [
    "#### Hex Code\n",
    "\n",
    "x45, x45\n"
   ]
  },
  {
   "cell_type": "code",
   "execution_count": null,
   "metadata": {},
   "outputs": [],
   "source": [
    "\"\\x43\\x46\\x44\""
   ]
  },
  {
   "cell_type": "markdown",
   "metadata": {},
   "source": [
    "#### Octal Number system\n",
    "013"
   ]
  },
  {
   "cell_type": "code",
   "execution_count": null,
   "metadata": {},
   "outputs": [],
   "source": [
    "\"\\010\""
   ]
  },
  {
   "cell_type": "code",
   "execution_count": null,
   "metadata": {},
   "outputs": [],
   "source": []
  },
  {
   "cell_type": "code",
   "execution_count": null,
   "metadata": {},
   "outputs": [],
   "source": []
  },
  {
   "cell_type": "code",
   "execution_count": null,
   "metadata": {},
   "outputs": [],
   "source": []
  },
  {
   "cell_type": "code",
   "execution_count": null,
   "metadata": {},
   "outputs": [],
   "source": []
  },
  {
   "cell_type": "markdown",
   "metadata": {},
   "source": [
    "# File Operations\n"
   ]
  },
  {
   "cell_type": "markdown",
   "metadata": {},
   "source": [
    "#### OPEN mode"
   ]
  },
  {
   "cell_type": "code",
   "execution_count": null,
   "metadata": {},
   "outputs": [],
   "source": [
    "#open file\n",
    "\n",
    "#D:\\project\\Course\\python  << / is escape character\n",
    "fo = open(\"D:/project/Course/python/test.txt\",\"r\")\n",
    "# fo = open(\"D:\\\\project\\\\Course\\\\python\\\\test.txt\",\"r\")\n",
    "print(fo.name) #prints the name of the file\n",
    "print(fo.mode) #prints the mode of acessing\n",
    "print(fo.closed) # checks whether the file was opened or closed \n",
    "fo.close() # if u don't close it , the file will not be acessed by other people forever !!!!\n",
    "print(fo.closed)"
   ]
  },
  {
   "cell_type": "markdown",
   "metadata": {},
   "source": [
    "#### Write Mode"
   ]
  },
  {
   "cell_type": "code",
   "execution_count": null,
   "metadata": {},
   "outputs": [],
   "source": [
    "#Writing file\n",
    "\n",
    "fo = open(\"D:/project/Course/python/test.txt\",\"w\")\n",
    "fo.write(\"asdasdsadsa\")\n",
    "print(\"File Sucessfully written\")\n",
    "fo.close()"
   ]
  },
  {
   "cell_type": "markdown",
   "metadata": {},
   "source": [
    "#### R+"
   ]
  },
  {
   "cell_type": "code",
   "execution_count": null,
   "metadata": {},
   "outputs": [],
   "source": [
    "# reading and writing same time    \"R+\"\n",
    "#NOTE: APPENDS TO THE PREVIOUS DATA\n",
    "\n",
    "fo = open(\"D:/project/Course/python/test.txt\",\"r+\")\n",
    "dataread=fo.read() \n",
    "print(dataread)\n",
    "x= fo.write(\"\\nmy first sentence\")  # this will returns the length of the string in text\n",
    "print(x)\n",
    "print(fo.name)\n",
    "print(fo.mode)\n",
    "fo.close()"
   ]
  },
  {
   "cell_type": "code",
   "execution_count": null,
   "metadata": {},
   "outputs": [],
   "source": [
    "# READ LINES \n",
    "\n",
    "fo = open(\"D:/project/Course/python/test.txt\",\"r+\")\n",
    "dataread=fo.readlines() # read lines and stores them as a list\n",
    "print(dataread)"
   ]
  },
  {
   "cell_type": "markdown",
   "metadata": {},
   "source": [
    "#### W+ "
   ]
  },
  {
   "cell_type": "code",
   "execution_count": null,
   "metadata": {},
   "outputs": [],
   "source": [
    "# reading and writing same time    \"W+\"\n",
    "#NOTE: OVERWRITES THE PREVIOUS DATA\n",
    "\n",
    "fo = open(\"D:/project/Course/python/test.txt\",\"w+\")\n",
    "dataread=fo.read() # whole text data will be stored in the \"string\"\n",
    "print(dataread)\n",
    "x= fo.write(\"\\nmy first sentence\")  # this will returns the length of the string in text\n",
    "print(x)\n",
    "print(fo.name)\n",
    "print(fo.mode)\n",
    "fo.close()"
   ]
  },
  {
   "cell_type": "markdown",
   "metadata": {},
   "source": [
    "#### Append Mode"
   ]
  },
  {
   "cell_type": "code",
   "execution_count": null,
   "metadata": {},
   "outputs": [],
   "source": [
    "#NOTE : It don't overwrite's the data\n",
    "fo = open(\"D:/project/Course/python/test.txt\",\"a\")\n",
    "fo.write(\"\\nThird Sentence\") # Adds the data at the end of the file's data\n",
    "fo.close()"
   ]
  },
  {
   "cell_type": "code",
   "execution_count": null,
   "metadata": {},
   "outputs": [],
   "source": []
  },
  {
   "cell_type": "code",
   "execution_count": null,
   "metadata": {},
   "outputs": [],
   "source": []
  },
  {
   "cell_type": "code",
   "execution_count": null,
   "metadata": {},
   "outputs": [],
   "source": []
  },
  {
   "cell_type": "code",
   "execution_count": null,
   "metadata": {},
   "outputs": [],
   "source": []
  },
  {
   "cell_type": "code",
   "execution_count": null,
   "metadata": {},
   "outputs": [],
   "source": [
    "st=\"dileep\"\n",
    "print(st[0])"
   ]
  },
  {
   "cell_type": "code",
   "execution_count": null,
   "metadata": {},
   "outputs": [],
   "source": []
  },
  {
   "cell_type": "code",
   "execution_count": null,
   "metadata": {},
   "outputs": [],
   "source": []
  },
  {
   "cell_type": "markdown",
   "metadata": {},
   "source": [
    "# Exercise"
   ]
  },
  {
   "cell_type": "markdown",
   "metadata": {},
   "source": [
    "## Problem 4\n",
    "\n",
    "find the chess board block colour if give block name"
   ]
  },
  {
   "cell_type": "code",
   "execution_count": 1,
   "metadata": {},
   "outputs": [
    {
     "name": "stdout",
     "output_type": "stream",
     "text": [
      "Enter the Bloc name :1z\n",
      "Wrong format or out of range values entered\n"
     ]
    }
   ],
   "source": [
    "st = input(\"Enter the Bloc name :\")\n",
    "# print(\"The ASCII value of '\"  \"' is\",ord('A'))\n",
    "x=ord(st[0])\n",
    "y=ord(st[1])\n",
    "# print(x,y)\n",
    "\n",
    "if (x>=48 and x<=57) and (y>=97 and y<=102):\n",
    "    if x%2==0 and y%2==0:\n",
    "        print(\"Black Color\")\n",
    "    elif x%2!=0 and y%2==0:\n",
    "        print(\"White Color\")\n",
    "    elif x%2==0 and y%2!=0:\n",
    "        print(\"White Color\")\n",
    "    else :\n",
    "        print(\"Black Color\")\n",
    "else:\n",
    "    print(\"Wrong format or out of range values entered\")\n",
    "\n",
    "\n"
   ]
  },
  {
   "cell_type": "code",
   "execution_count": null,
   "metadata": {},
   "outputs": [],
   "source": []
  },
  {
   "cell_type": "markdown",
   "metadata": {},
   "source": [
    "## Problem 5"
   ]
  },
  {
   "cell_type": "markdown",
   "metadata": {},
   "source": [
    "Guess the number Game <br>\n",
    "user gets 3 chances to identify a number . once a number pressed it should print if the input number is in near range or far range . (+-3 range) number should be 0-9\n"
   ]
  },
  {
   "cell_type": "code",
   "execution_count": null,
   "metadata": {},
   "outputs": [],
   "source": [
    "import random\n",
    "\n",
    "main_num=random.randint(1,10)\n",
    "chances = 3\n",
    "print(main_num)\n",
    "\n",
    "while chances!=0:\n",
    "    guess_num=int(input(\"Enter your Number :\"))\n",
    "    rang = guess_num-main_num\n",
    "    if guess_num==main_num :\n",
    "        print(\"Super !! 🎉🎉🎉\")\n",
    "        break\n",
    "    elif rang>-3 and rang<3 :\n",
    "        print(\"So close . 👌👌👌\")\n",
    "        chances=chances-1\n",
    "    else:\n",
    "        print(\"Incorrect. ❌❌❌\")\n",
    "        chances=chances-1"
   ]
  },
  {
   "cell_type": "code",
   "execution_count": null,
   "metadata": {},
   "outputs": [],
   "source": []
  },
  {
   "cell_type": "markdown",
   "metadata": {},
   "source": [
    "## problem 6\n",
    "password assignment\n"
   ]
  },
  {
   "cell_type": "markdown",
   "metadata": {},
   "source": [
    "criteria of password <br>\n",
    "- atleast 1 small 1 capital letter \n",
    "- atleast 1 number\n",
    "- atleast 1 special character\n",
    "- minimum and maximum lenght is 6 and 12"
   ]
  },
  {
   "cell_type": "code",
   "execution_count": 3,
   "metadata": {},
   "outputs": [
    {
     "name": "stdout",
     "output_type": "stream",
     "text": [
      "Enter your usernamedilep\n",
      "Enter your password\n",
      "dasd@@AA2\n",
      "Sucessfully Created user!\n",
      "{'dileep': '1728@cooll', 'awesomeman': 'sjaks@dsja', 'dilep': 'dasd@@AA2'}\n"
     ]
    }
   ],
   "source": [
    "users ={\n",
    "    'dileep':\"1728@cooll\",\n",
    "    'awesomeman':\"sjaks@dsja\"\n",
    "}\n",
    "\n",
    "def checkNum(p):\n",
    "    for x in p:\n",
    "        if ord(x)>=48 and ord(x)<=57:\n",
    "            return True\n",
    "    return False\n",
    "\n",
    "def checkSpecial(p):\n",
    "    for x in p:\n",
    "        if (ord(x)>=33 and ord(x)<=47) or x=='@':\n",
    "            return True\n",
    "    return False\n",
    "\n",
    "def checkSmall(p):\n",
    "    for x in p:\n",
    "        if (ord(x)>=97 and ord(x)<=122):\n",
    "            return True\n",
    "    return False\n",
    "\n",
    "def checkCapital(p):\n",
    "    for x in p:\n",
    "        if ord(x)>=65 and ord(x)<=90:\n",
    "            return True\n",
    "    return False\n",
    "\n",
    "def checkUsers(userId):\n",
    "    for key in users.keys():\n",
    "        if key == userId:\n",
    "            return True\n",
    "    return False\n",
    "    \n",
    "\n",
    "userName=''\n",
    "while(True):\n",
    "    userName=input(\"Enter your username\")\n",
    "    if checkUsers(userName):\n",
    "        print(\"Username already Exist ! type another\")\n",
    "    else:\n",
    "        break\n",
    "        \n",
    "password=input(\"Enter your password\\n\")\n",
    "if len(password)>=6 and len(password)<=12:\n",
    "    if checkNum(password) and checkSpecial(password) and checkSmall(password) and checkCapital(password):\n",
    "        users[userName]=password\n",
    "        print(\"Sucessfully Created user!\")\n",
    "        print(users)\n",
    "    else:\n",
    "        print(\"Password is not satisfied the conditions !\")\n",
    "\n",
    "else:\n",
    "    print(\"Password lenght should be min 6 and max 12\")\n"
   ]
  },
  {
   "cell_type": "code",
   "execution_count": null,
   "metadata": {},
   "outputs": [],
   "source": []
  },
  {
   "cell_type": "code",
   "execution_count": null,
   "metadata": {},
   "outputs": [],
   "source": []
  }
 ],
 "metadata": {
  "kernelspec": {
   "display_name": "Python 3",
   "language": "python",
   "name": "python3"
  },
  "language_info": {
   "codemirror_mode": {
    "name": "ipython",
    "version": 3
   },
   "file_extension": ".py",
   "mimetype": "text/x-python",
   "name": "python",
   "nbconvert_exporter": "python",
   "pygments_lexer": "ipython3",
   "version": "3.7.1"
  }
 },
 "nbformat": 4,
 "nbformat_minor": 2
}
