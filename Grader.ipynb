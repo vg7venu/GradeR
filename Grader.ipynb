{
 "cells": [
  {
   "cell_type": "code",
   "execution_count": 70,
   "metadata": {},
   "outputs": [],
   "source": [
    "import pandas as pd"
   ]
  },
  {
   "cell_type": "code",
   "execution_count": 71,
   "metadata": {
    "scrolled": true
   },
   "outputs": [],
   "source": [
    "df = pd.read_excel(r'C:\\Users\\Venu\\Documents\\results.xlsx' )"
   ]
  },
  {
   "cell_type": "code",
   "execution_count": 72,
   "metadata": {},
   "outputs": [
    {
     "name": "stdout",
     "output_type": "stream",
     "text": [
      "           Htno   Subcode                               Subname Grade  Credits\n",
      "0    176M1A0501  R1622051                  Software Engineering     F        0\n",
      "1    176M1A0501  R1622052                      Java Programming     F        0\n",
      "2    176M1A0501  R1622053              Advanced Data Structures     F        0\n",
      "3    176M1A0501  R1622054                 Computer Organization     F        0\n",
      "4    176M1A0501  R1622055  Formal Languages and Automata Theory     F        0\n",
      "..          ...       ...                                   ...   ...      ...\n",
      "435  176M1A0560  R1622054                 Computer Organization     B        3\n",
      "436  176M1A0560  R1622055  Formal Languages and Automata Theory     C        3\n",
      "437  176M1A0560  R1622056   Principles of Programming Languages     B        3\n",
      "438  176M1A0560  R1622057         Advanced Data Structures  Lab     O        2\n",
      "439  176M1A0560  R1622058                 Java Programming  Lab     O        2\n",
      "\n",
      "[440 rows x 5 columns]\n"
     ]
    }
   ],
   "source": [
    "\n",
    "print(df)"
   ]
  },
  {
   "cell_type": "code",
   "execution_count": 73,
   "metadata": {},
   "outputs": [],
   "source": [
    "Roll = pd.DataFrame(df, columns= ['Htno'] )\n",
    "Code = pd.DataFrame(df, columns= ['Subcode'] )\n",
    "Sub = pd.DataFrame(df, columns= ['Subname'] )\n",
    "Grade = pd.DataFrame(df, columns= ['Grade'] )\n",
    "Cred = pd.DataFrame(df, columns= ['Credits'] )"
   ]
  },
  {
   "cell_type": "code",
   "execution_count": 74,
   "metadata": {},
   "outputs": [],
   "source": [
    "Roll=Roll.drop_duplicates()\n"
   ]
  },
  {
   "cell_type": "code",
   "execution_count": 75,
   "metadata": {},
   "outputs": [
    {
     "name": "stdout",
     "output_type": "stream",
     "text": [
      "           Htno\n",
      "0    176M1A0501\n",
      "8    176M1A0502\n",
      "16   176M1A0503\n",
      "24   176M1A0504\n",
      "32   176M1A0505\n",
      "40   176M1A0506\n",
      "48   176M1A0507\n",
      "56   176M1A0508\n",
      "64   176M1A0510\n",
      "72   176M1A0511\n",
      "80   176M1A0512\n",
      "88   176M1A0513\n",
      "96   176M1A0514\n",
      "104  176M1A0515\n",
      "112  176M1A0516\n",
      "120  176M1A0517\n",
      "128  176M1A0518\n",
      "136  176M1A0519\n",
      "144  176M1A0521\n",
      "152  176M1A0522\n",
      "160  176M1A0523\n",
      "168  176M1A0524\n",
      "176  176M1A0525\n",
      "184  176M1A0526\n",
      "192  176M1A0527\n",
      "200  176M1A0528\n",
      "208  176M1A0529\n",
      "216  176M1A0530\n",
      "224  176M1A0531\n",
      "232  176M1A0532\n",
      "240  176M1A0533\n",
      "248  176M1A0535\n",
      "256  176M1A0536\n",
      "264  176M1A0537\n",
      "272  176M1A0538\n",
      "280  176M1A0539\n",
      "288  176M1A0541\n",
      "296  176M1A0542\n",
      "304  176M1A0543\n",
      "312  176M1A0544\n",
      "320  176M1A0545\n",
      "328  176M1A0546\n",
      "336  176M1A0548\n",
      "344  176M1A0549\n",
      "352  176M1A0550\n",
      "360  176M1A0551\n",
      "368  176M1A0552\n",
      "376  176M1A0553\n",
      "384  176M1A0554\n",
      "392  176M1A0555\n",
      "400  176M1A0556\n",
      "408  176M1A0557\n",
      "416  176M1A0558\n",
      "424  176M1A0559\n",
      "432  176M1A0560\n"
     ]
    }
   ],
   "source": [
    "print(Roll)"
   ]
  },
  {
   "cell_type": "code",
   "execution_count": null,
   "metadata": {},
   "outputs": [],
   "source": []
  }
 ],
 "metadata": {
  "kernelspec": {
   "display_name": "Python 3",
   "language": "python",
   "name": "python3"
  },
  "language_info": {
   "codemirror_mode": {
    "name": "ipython",
    "version": 3
   },
   "file_extension": ".py",
   "mimetype": "text/x-python",
   "name": "python",
   "nbconvert_exporter": "python",
   "pygments_lexer": "ipython3",
   "version": "3.7.4"
  }
 },
 "nbformat": 4,
 "nbformat_minor": 2
}
