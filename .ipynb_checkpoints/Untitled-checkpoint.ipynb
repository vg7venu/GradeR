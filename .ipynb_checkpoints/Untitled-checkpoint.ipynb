{
 "cells": [
  {
   "cell_type": "code",
   "execution_count": 1,
   "metadata": {},
   "outputs": [],
   "source": [
    "import pandas as pd"
   ]
  },
  {
   "cell_type": "code",
   "execution_count": 2,
   "metadata": {},
   "outputs": [
    {
     "name": "stdout",
     "output_type": "stream",
     "text": [
      "           Htno   Subcode                               Subname Grade  Credits\n",
      "0    176M1A0501  R1622051                  Software Engineering     F        0\n",
      "1    176M1A0501  R1622052                      Java Programming     F        0\n",
      "2    176M1A0501  R1622053              Advanced Data Structures     F        0\n",
      "3    176M1A0501  R1622054                 Computer Organization     F        0\n",
      "4    176M1A0501  R1622055  Formal Languages and Automata Theory     F        0\n",
      "..          ...       ...                                   ...   ...      ...\n",
      "435  176M1A0560  R1622054                 Computer Organization     B        3\n",
      "436  176M1A0560  R1622055  Formal Languages and Automata Theory     C        3\n",
      "437  176M1A0560  R1622056   Principles of Programming Languages     B        3\n",
      "438  176M1A0560  R1622057         Advanced Data Structures  Lab     O        2\n",
      "439  176M1A0560  R1622058                 Java Programming  Lab     O        2\n",
      "\n",
      "[440 rows x 5 columns]\n"
     ]
    }
   ],
   "source": [
    "df = pd.read_excel(r'C:\\Users\\Venu\\Documents\\GradeR\\results.xlsx')\n",
    "print(df)"
   ]
  },
  {
   "cell_type": "code",
   "execution_count": 11,
   "metadata": {},
   "outputs": [
    {
     "data": {
      "text/plain": [
       "array(['176M1A0501', '176M1A0502', '176M1A0503', '176M1A0504',\n",
       "       '176M1A0505', '176M1A0506', '176M1A0507', '176M1A0508',\n",
       "       '176M1A0510', '176M1A0511', '176M1A0512', '176M1A0513',\n",
       "       '176M1A0514', '176M1A0515', '176M1A0516', '176M1A0517',\n",
       "       '176M1A0518', '176M1A0519', '176M1A0521', '176M1A0522',\n",
       "       '176M1A0523', '176M1A0524', '176M1A0525', '176M1A0526',\n",
       "       '176M1A0527', '176M1A0528', '176M1A0529', '176M1A0530',\n",
       "       '176M1A0531', '176M1A0532', '176M1A0533', '176M1A0535',\n",
       "       '176M1A0536', '176M1A0537', '176M1A0538', '176M1A0539',\n",
       "       '176M1A0541', '176M1A0542', '176M1A0543', '176M1A0544',\n",
       "       '176M1A0545', '176M1A0546', '176M1A0548', '176M1A0549',\n",
       "       '176M1A0550', '176M1A0551', '176M1A0552', '176M1A0553',\n",
       "       '176M1A0554', '176M1A0555', '176M1A0556', '176M1A0557',\n",
       "       '176M1A0558', '176M1A0559', '176M1A0560'], dtype=object)"
      ]
     },
     "execution_count": 11,
     "metadata": {},
     "output_type": "execute_result"
    }
   ],
   "source": [
    "# RollNOS = pd.DataFrame(df, columns= ['Htno'] )\n",
    "# RollNOS=RollNOS.drop_duplicates()\n",
    "# RollNOS\n",
    "rollnumbers = df.Htno.unique()\n",
    "rollnumbers"
   ]
  },
  {
   "cell_type": "code",
   "execution_count": null,
   "metadata": {},
   "outputs": [],
   "source": [
    "# df.loc[df['column_name'] == some_value]"
   ]
  },
  {
   "cell_type": "code",
   "execution_count": 13,
   "metadata": {},
   "outputs": [
    {
     "ename": "SyntaxError",
     "evalue": "unexpected EOF while parsing (<ipython-input-13-80ad95ddf117>, line 2)",
     "output_type": "error",
     "traceback": [
      "\u001b[1;36m  File \u001b[1;32m\"<ipython-input-13-80ad95ddf117>\"\u001b[1;36m, line \u001b[1;32m2\u001b[0m\n\u001b[1;33m    \u001b[0m\n\u001b[1;37m    ^\u001b[0m\n\u001b[1;31mSyntaxError\u001b[0m\u001b[1;31m:\u001b[0m unexpected EOF while parsing\n"
     ]
    }
   ],
   "source": [
    "for roll in rollnumbers : \n",
    "  "
   ]
  },
  {
   "cell_type": "code",
   "execution_count": null,
   "metadata": {},
   "outputs": [],
   "source": []
  }
 ],
 "metadata": {
  "kernelspec": {
   "display_name": "Python 3",
   "language": "python",
   "name": "python3"
  },
  "language_info": {
   "codemirror_mode": {
    "name": "ipython",
    "version": 3
   },
   "file_extension": ".py",
   "mimetype": "text/x-python",
   "name": "python",
   "nbconvert_exporter": "python",
   "pygments_lexer": "ipython3",
   "version": "3.7.4"
  }
 },
 "nbformat": 4,
 "nbformat_minor": 2
}
