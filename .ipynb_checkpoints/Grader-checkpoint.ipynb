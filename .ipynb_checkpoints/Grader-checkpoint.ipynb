{
 "cells": [
  {
   "cell_type": "code",
   "execution_count": 1,
   "metadata": {},
   "outputs": [],
   "source": [
    "import pandas as pd"
   ]
  },
  {
   "cell_type": "code",
   "execution_count": 2,
   "metadata": {
    "scrolled": true
   },
   "outputs": [
    {
     "name": "stdout",
     "output_type": "stream",
     "text": [
      "           Htno   Subcode                               Subname Grade  Credits\n",
      "0    176M1A0501  R1622051                  Software Engineering     F        0\n",
      "1    176M1A0501  R1622052                      Java Programming     F        0\n",
      "2    176M1A0501  R1622053              Advanced Data Structures     F        0\n",
      "3    176M1A0501  R1622054                 Computer Organization     F        0\n",
      "4    176M1A0501  R1622055  Formal Languages and Automata Theory     F        0\n",
      "..          ...       ...                                   ...   ...      ...\n",
      "435  176M1A0560  R1622054                 Computer Organization     B        3\n",
      "436  176M1A0560  R1622055  Formal Languages and Automata Theory     C        3\n",
      "437  176M1A0560  R1622056   Principles of Programming Languages     B        3\n",
      "438  176M1A0560  R1622057         Advanced Data Structures  Lab     O        2\n",
      "439  176M1A0560  R1622058                 Java Programming  Lab     O        2\n",
      "\n",
      "[440 rows x 5 columns]\n"
     ]
    }
   ],
   "source": [
    "df = pd.read_excel(r'C:\\Users\\Venu\\Documents\\GradeR\\results.xlsx')\n",
    "print(df)"
   ]
  },
  {
   "cell_type": "code",
   "execution_count": 3,
   "metadata": {},
   "outputs": [],
   "source": [
    "Roll = pd.DataFrame(df, columns= ['Htno'] )\n",
    "Code = pd.DataFrame(df, columns= ['Subcode'] )\n",
    "Sub = pd.DataFrame(df, columns= ['Subname'] )\n",
    "Grade = pd.DataFrame(df, columns= ['Grade'] )\n",
    "Cred = pd.DataFrame(df, columns= ['Credits'] )"
   ]
  },
  {
   "cell_type": "code",
   "execution_count": 4,
   "metadata": {},
   "outputs": [],
   "source": [
    "Roll=Roll.drop_duplicates()"
   ]
  },
  {
   "cell_type": "code",
   "execution_count": 6,
   "metadata": {
    "scrolled": false
   },
   "outputs": [
    {
     "name": "stdout",
     "output_type": "stream",
     "text": [
      "['F', 'F', 'F', 'F', 'F', 'F', 'S', 'S', 'F', 'F', 'F', 'F', 'F', 'F', 'B', 'B', 'C', 'S', 'B', 'B', 'C', 'B', 'O', 'O', 'F', 'F', 'F', 'F', 'F', 'F', 'B', 'B', 'A', 'B', 'A', 'A', 'A', 'B', 'O', 'O', 'B', 'B', 'D', 'B', 'A', 'D', 'S', 'O', 'C', 'A', 'D', 'D', 'D', 'C', 'O', 'O', 'F', 'C', 'B', 'B', 'D', 'C', 'O', 'S', 'F', 'F', 'F', 'F', 'F', 'F', 'S', 'A', 'D', 'C', 'D', 'D', 'D', 'D', 'S', 'O', 'C', 'B', 'C', 'C', 'D', 'C', 'S', 'S', 'ABSENT', 'ABSENT', 'ABSENT', 'ABSENT', 'ABSENT', 'ABSENT', 'ABSENT', 'ABSENT', 'C', 'F', 'C', 'F', 'D', 'D', 'A', 'O', 'D', 'B', 'D', 'D', 'D', 'D', 'S', 'O', 'ABSENT', 'ABSENT', 'ABSENT', 'ABSENT', 'ABSENT', 'ABSENT', 'ABSENT', 'ABSENT', 'F', 'C', 'B', 'C', 'F', 'D', 'A', 'S', 'A', 'B', 'S', 'A', 'B', 'B', 'O', 'O', 'B', 'B', 'B', 'C', 'D', 'C', 'O', 'O', 'C', 'B', 'C', 'D', 'D', 'C', 'O', 'S', 'D', 'C', 'C', 'F', 'D', 'D', 'O', 'S', 'A', 'C', 'B', 'B', 'C', 'C', 'O', 'O', 'D', 'D', 'D', 'F', 'D', 'D', 'A', 'S', 'F', 'F', 'F', 'F', 'F', 'F', 'O', 'S', 'F', 'F', 'D', 'F', 'F', 'F', 'S', 'S', 'B', 'B', 'A', 'B', 'A', 'B', 'O', 'O', 'C', 'B', 'B', 'A', 'C', 'B', 'O', 'O', 'F', 'F', 'F', 'F', 'F', 'F', 'A', 'A', 'F', 'D', 'B', 'B', 'D', 'C', 'O', 'O', 'F', 'F', 'F', 'F', 'F', 'F', 'O', 'A', 'C', 'A', 'D', 'C', 'C', 'D', 'O', 'O', 'D', 'D', 'D', 'D', 'D', 'F', 'S', 'S', 'D', 'D', 'B', 'B', 'C', 'C', 'S', 'O', 'C', 'B', 'A', 'C', 'D', 'C', 'O', 'O', 'F', 'F', 'F', 'F', 'F', 'F', 'A', 'A', 'D', 'B', 'B', 'D', 'D', 'C', 'O', 'O', 'D', 'A', 'B', 'B', 'C', 'B', 'O', 'O', 'F', 'F', 'F', 'F', 'F', 'F', 'A', 'A', 'ABSENT', 'ABSENT', 'ABSENT', 'ABSENT', 'ABSENT', 'ABSENT', 'ABSENT', 'ABSENT', 'C', 'S', 'B', 'B', 'D', 'C', 'O', 'O', 'C', 'B', 'B', 'C', 'C', 'A', 'O', 'O', 'C', 'C', 'C', 'C', 'C', 'C', 'S', 'S', 'D', 'F', 'D', 'D', 'F', 'F', 'A', 'A', 'D', 'B', 'C', 'D', 'D', 'F', 'S', 'O', 'D', 'F', 'C', 'F', 'D', 'C', 'S', 'A', 'D', 'C', 'C', 'F', 'D', 'D', 'S', 'S', 'B', 'D', 'D', 'C', 'C', 'C', 'S', 'O', 'C', 'A', 'C', 'D', 'C', 'D', 'S', 'S', 'D', 'F', 'C', 'C', 'F', 'C', 'S', 'S', 'B', 'D', 'C', 'B', 'C', 'C', 'S', 'S', 'D', 'C', 'D', 'F', 'D', 'D', 'O', 'S', 'D', 'A', 'B', 'C', 'C', 'C', 'O', 'O', 'B', 'B', 'A', 'B', 'C', 'B', 'O', 'O', 'C', 'A', 'A', 'C', 'D', 'C', 'O', 'O', 'ABSENT', 'ABSENT', 'ABSENT', 'ABSENT', 'ABSENT', 'ABSENT', 'ABSENT', 'ABSENT', 'C', 'O', 'B', 'B', 'C', 'B', 'O', 'O']\n"
     ]
    }
   ],
   "source": [
    "# Roll\n",
    "# Roll.reset_index(drop=True, inplace=True)\n",
    "# Roll\n",
    "asub = []\n",
    "for i in range(0,len(Grade),8):\n",
    "    for j in range(i,i+8,1):\n",
    "        asub.append(Grade.loc[j,'Grade'])\n",
    "print(asub)"
   ]
  },
  {
   "cell_type": "code",
   "execution_count": null,
   "metadata": {},
   "outputs": [],
   "source": [
    "# df1 = {'Roll Number':Roll,\n",
    "#        'R1622051':R1622051,\n",
    "#        'R1622052':R1622052,\n",
    "#        'R1622053':R1622053,\n",
    "#        'R1622054':R1622054,\n",
    "#        'R1622055':R1622055,\n",
    "#        'R1622056':R1622056,\n",
    "#        'R1622057':R1622057,\n",
    "#        'R1622058':R1622058}"
   ]
  },
  {
   "cell_type": "code",
   "execution_count": null,
   "metadata": {},
   "outputs": [],
   "source": []
  },
  {
   "cell_type": "code",
   "execution_count": null,
   "metadata": {},
   "outputs": [],
   "source": []
  },
  {
   "cell_type": "code",
   "execution_count": null,
   "metadata": {},
   "outputs": [],
   "source": []
  },
  {
   "cell_type": "code",
   "execution_count": null,
   "metadata": {},
   "outputs": [],
   "source": []
  }
 ],
 "metadata": {
  "kernelspec": {
   "display_name": "Python 3",
   "language": "python",
   "name": "python3"
  },
  "language_info": {
   "codemirror_mode": {
    "name": "ipython",
    "version": 3
   },
   "file_extension": ".py",
   "mimetype": "text/x-python",
   "name": "python",
   "nbconvert_exporter": "python",
   "pygments_lexer": "ipython3",
   "version": "3.7.4"
  }
 },
 "nbformat": 4,
 "nbformat_minor": 2
}
