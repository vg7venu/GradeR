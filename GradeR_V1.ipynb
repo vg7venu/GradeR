{
 "cells": [
  {
   "cell_type": "code",
   "execution_count": null,
   "metadata": {},
   "outputs": [],
   "source": [
    "# Importing Required packages and Modules\n",
    "import pandas as pd\n",
    "\n",
    "# Importing Data Set \n",
    "data = pd.read_excel(r\"D:\\Task\\GradeR\\cse.xlsx\")\n",
    "data"
   ]
  },
  {
   "cell_type": "code",
   "execution_count": null,
   "metadata": {},
   "outputs": [],
   "source": [
    "# Extracting Subject : Code,Names and Student's ID \n",
    "subjectCodes = data['Subcode'].unique()\n",
    "subjectNames = data['Subname'].unique()\n",
    "studentIds = data.Htno.unique()\n",
    "credits = data.Credits\n",
    "creditsMax = []\n",
    "for subcredit in range(0,len(credits),len(subjectCodes)):\n",
    "        creditsMax.append(sum(credits[subcredit:subcredit+len(subjectCodes)]))\n",
    "creditsMax = max(creditsMax)\n",
    "creditsMax"
   ]
  },
  {
   "cell_type": "code",
   "execution_count": null,
   "metadata": {},
   "outputs": [],
   "source": [
    "# Creating the Header for the Main DataFrame\n",
    "def createColumns():\n",
    "    columnsList = []\n",
    "    columnsList.append('ID')\n",
    "    for code in subjectCodes:\n",
    "        columnsList.append(code)\n",
    "    columnsList.append('GPA')\n",
    "    return columnsList\n",
    "\n",
    "gpaDF = pd.DataFrame(columns=createColumns())"
   ]
  },
  {
   "cell_type": "code",
   "execution_count": null,
   "metadata": {
    "scrolled": true
   },
   "outputs": [],
   "source": [
    "# Used to Calculate the GPA of the Each student \n",
    "def calcGpa(subjectGrades,subjectCredits):\n",
    "    total = 0\n",
    "    for i in range(0,len(subjectGrades)):\n",
    "        total = total + (subjectGrades[i]*subjectCredits[i])\n",
    "    return total/creditsMax\n",
    "\n",
    "# Creates and Appends the Rows of Each student containing ID..SubjectGrades...GPA respectively\n",
    "def createStudentRow(ide,subjectGrades,subjectCredits):\n",
    "    row = []\n",
    "    row.append(ide)\n",
    "    for grade in subjectGrades:\n",
    "        row.append(grade)\n",
    "    row.append(calcGpa(subjectGrades,subjectCredits))\n",
    "    stu_row = pd.DataFrame([row],columns=createColumns())\n",
    "    return stu_row\n",
    "\n",
    "# Main GPADataFrame\n",
    "for ide in studentIds:\n",
    "    subjectGrades = data.loc[data['Htno']== ide].Grade.tolist()\n",
    "    subjectCredits = data.loc[data['Htno']== ide].Credits.tolist()\n",
    "    for n, i in enumerate(subjectGrades):\n",
    "        if i == 'O':subjectGrades[n] = 10\n",
    "        if i == 'S':subjectGrades[n] = 9\n",
    "        if i == 'A':subjectGrades[n] = 8\n",
    "        if i == 'B':subjectGrades[n] = 7\n",
    "        if i == 'C':subjectGrades[n] = 6\n",
    "        if i == 'D':subjectGrades[n] = 5\n",
    "        if i == 'F':subjectGrades[n] = 0\n",
    "        if i == 'ABSENT':subjectGrades[n] = 0\n",
    "    stu_row = createStudentRow(ide,subjectGrades,subjectCredits)\n",
    "    gpaDF = gpaDF.append(stu_row,ignore_index=True)\n",
    "gpaDF"
   ]
  },
  {
   "cell_type": "code",
   "execution_count": null,
   "metadata": {},
   "outputs": [],
   "source": [
    "# Single Student GPA Query\n",
    "\n",
    "studentInp = input(\"Enter your Rollnumber:\").upper()\n",
    "print(f'The GPA of {studentInp}:'+gpaDF.loc[gpaDF['ID']==studentInp].GPA.to_string(index=False))"
   ]
  },
  {
   "cell_type": "code",
   "execution_count": null,
   "metadata": {},
   "outputs": [],
   "source": [
    "# Subject Wise Total\n",
    "\n",
    "subjectName = input(\"Enter the Subject Name:\").upper()\n",
    "print(subjectName)\n",
    "topperCount = int(input(\"Enter the no.of topper count:\"))\n",
    "subjectTopper = sorted(gpaDF[subjectName].unique(),reverse=True)[:topperCount]\n",
    "subjectTopper\n",
    "for rank,top in enumerate(subjectTopper):\n",
    "    print(f'Rank {rank+1}\\n'+gpaDF.loc[gpaDF[subjectName]==top].ID.to_string(index=False))"
   ]
  },
  {
   "cell_type": "code",
   "execution_count": null,
   "metadata": {},
   "outputs": [],
   "source": [
    "#Top count GPA students\n",
    "\n",
    "gpatopCount = int(input(\"Enter No.of Toppers count:\"))\n",
    "gpaTop = sorted(gpaDF['GPA'].unique(),reverse=True)[:gpatopCount]\n",
    "\n",
    "for gtop in gpaTop:   \n",
    "    print(f'{gpaDF.loc[gpaDF[\"GPA\"]==gtop].ID.to_string(index=False)}:{gtop}')\n",
    "    print()\n",
    "          "
   ]
  },
  {
   "cell_type": "code",
   "execution_count": null,
   "metadata": {},
   "outputs": [],
   "source": [
    "# Saving GPA results into a local CSV file\n",
    "gpaDF.to_csv('GPAoutput.csv') "
   ]
  },
  {
   "cell_type": "code",
   "execution_count": null,
   "metadata": {},
   "outputs": [],
   "source": []
  },
  {
   "cell_type": "code",
   "execution_count": null,
   "metadata": {},
   "outputs": [],
   "source": []
  }
 ],
 "metadata": {
  "kernelspec": {
   "display_name": "Python 3",
   "language": "python",
   "name": "python3"
  },
  "language_info": {
   "codemirror_mode": {
    "name": "ipython",
    "version": 3
   },
   "file_extension": ".py",
   "mimetype": "text/x-python",
   "name": "python",
   "nbconvert_exporter": "python",
   "pygments_lexer": "ipython3",
   "version": "3.7.3"
  }
 },
 "nbformat": 4,
 "nbformat_minor": 2
}
