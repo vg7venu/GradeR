{
 "cells": [
  {
   "cell_type": "code",
   "execution_count": 54,
   "metadata": {},
   "outputs": [],
   "source": [
    "# Importing Required packages and Modules\n",
    "import pandas as pd\n",
    "\n",
    "# Importing Data Set \n",
    "data = pd.read_excel(r\"C:\\Users\\Heman\\Music\\GradeR-master\\cse.xlsx\")"
   ]
  },
  {
   "cell_type": "code",
   "execution_count": 60,
   "metadata": {},
   "outputs": [],
   "source": [
    "# Extracting Subject : Code,Names and Student's ID \n",
    "subjectCodes = data['CODE'].unique()\n",
    "subjectNames = data['SUBJECT'].unique()\n",
    "studentIds = data.ROLL.unique()"
   ]
  },
  {
   "cell_type": "code",
   "execution_count": 68,
   "metadata": {},
   "outputs": [],
   "source": [
    "# Creating the Header for the Main DataFrame\n",
    "def createColumns():\n",
    "    columnsList = []\n",
    "    columnsList.append('ID')\n",
    "    for code in subjectCodes:\n",
    "        columnsList.append(code)\n",
    "    columnsList.append('GPA')\n",
    "    return columnsList\n",
    "\n",
    "gpaDF = pd.DataFrame(columns=createColumns())"
   ]
  },
  {
   "cell_type": "code",
   "execution_count": 72,
   "metadata": {
    "scrolled": true
   },
   "outputs": [],
   "source": [
    "# Used to Calculate the GPA of the Each student \n",
    "def calcGpa(subjectGrades,subjectCredits):\n",
    "    total = 0\n",
    "    for i in range(0,len(subjectGrades)):\n",
    "        total = total + (subjectGrades[i]*subjectCredits[i])\n",
    "    return total/22\n",
    "\n",
    "# Creates and Appends the Rows of Each student containing ID..SubjectGrades...GPA respectively\n",
    "def createStudentRow(ide,subjectGrades,subjectCredits):\n",
    "    row = []\n",
    "    row.append(ide)\n",
    "    for grade in subjectGrades:\n",
    "        row.append(grade)\n",
    "    row.append(calcGpa(subjectGrades,subjectCredits))\n",
    "    stu_row = pd.DataFrame([row],columns=createColumns())\n",
    "    return stu_row\n",
    "\n",
    "# Main GPADataFrame\n",
    "for ide in studentIds:\n",
    "    subjectGrades = data.loc[data['ROLL']== ide].GRADE.tolist()\n",
    "    subjectCredits = data.loc[data['ROLL']== ide].CREDIT.tolist()\n",
    "    for n, i in enumerate(subjectGrades):\n",
    "        if i == 'O':subjectGrades[n] = 10\n",
    "        if i == 'S':subjectGrades[n] = 9\n",
    "        if i == 'A':subjectGrades[n] = 8\n",
    "        if i == 'B':subjectGrades[n] = 7\n",
    "        if i == 'C':subjectGrades[n] = 6\n",
    "        if i == 'D':subjectGrades[n] = 5\n",
    "        if i == 'F':subjectGrades[n] = 0\n",
    "        if i == 'ABSENT':subjectGrades[n] = 0\n",
    "    stu_row = createStudentRow(ide,subjectGrades,subjectCredits)\n",
    "    gpaDF = gpaDF.append(stu_row,ignore_index=True)"
   ]
  },
  {
   "cell_type": "code",
   "execution_count": 71,
   "metadata": {},
   "outputs": [],
   "source": []
  },
  {
   "cell_type": "code",
   "execution_count": null,
   "metadata": {},
   "outputs": [],
   "source": []
  },
  {
   "cell_type": "code",
   "execution_count": null,
   "metadata": {},
   "outputs": [],
   "source": [
    "# Saving GPA results into a local CSV file\n",
    "gpaDF.to_csv('GPAoutput.csv') "
   ]
  },
  {
   "cell_type": "code",
   "execution_count": null,
   "metadata": {},
   "outputs": [],
   "source": []
  },
  {
   "cell_type": "code",
   "execution_count": null,
   "metadata": {},
   "outputs": [],
   "source": []
  },
  {
   "cell_type": "code",
   "execution_count": null,
   "metadata": {},
   "outputs": [],
   "source": []
  },
  {
   "cell_type": "code",
   "execution_count": null,
   "metadata": {},
   "outputs": [],
   "source": []
  }
 ],
 "metadata": {
  "kernelspec": {
   "display_name": "Python 3",
   "language": "python",
   "name": "python3"
  },
  "language_info": {
   "codemirror_mode": {
    "name": "ipython",
    "version": 3
   },
   "file_extension": ".py",
   "mimetype": "text/x-python",
   "name": "python",
   "nbconvert_exporter": "python",
   "pygments_lexer": "ipython3",
   "version": "3.7.3"
  }
 },
 "nbformat": 4,
 "nbformat_minor": 2
}
